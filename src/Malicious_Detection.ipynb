{
  "metadata": {
    "kernelspec": {
      "name": "python",
      "display_name": "Python (Pyodide)",
      "language": "python"
    },
    "language_info": {
      "codemirror_mode": {
        "name": "python",
        "version": 3
      },
      "file_extension": ".py",
      "mimetype": "text/x-python",
      "name": "python",
      "nbconvert_exporter": "python",
      "pygments_lexer": "ipython3",
      "version": "3.8"
    },
    "colab": {
      "name": "mali_detec.ipynb",
      "provenance": [],
      "collapsed_sections": [
        "LrNl4HAkJOo6"
      ],
      "toc_visible": true
    }
  },
  "nbformat_minor": 4,
  "nbformat": 4,
  "cells": [
    {
      "cell_type": "code",
      "source": "import numpy as np\nimport pandas as pd\nfrom sklearn.metrics import accuracy_score, confusion_matrix, classification_report",
      "metadata": {
        "id": "EXTwD1r7JOi9",
        "colab_type": "code",
        "colab": {},
        "trusted": true
      },
      "outputs": [],
      "execution_count": 205
    },
    {
      "cell_type": "code",
      "source": "kdd_train = pd.read_csv(\"./kdd.csv\")",
      "metadata": {
        "id": "-rO-jedLJOjY",
        "colab_type": "code",
        "colab": {},
        "trusted": true
      },
      "outputs": [],
      "execution_count": 206
    },
    {
      "cell_type": "code",
      "source": "kdd_train.head()\nkdd_train.shape",
      "metadata": {
        "id": "OeTGKtZfJOjs",
        "colab_type": "code",
        "colab": {
          "base_uri": "https://localhost:8080/",
          "height": 34
        },
        "outputId": "49762632-e572-4238-fee6-15a2945eb452",
        "trusted": true
      },
      "outputs": [
        {
          "execution_count": 207,
          "output_type": "execute_result",
          "data": {
            "text/plain": "(70935, 43)"
          },
          "metadata": {}
        }
      ],
      "execution_count": 207
    },
    {
      "cell_type": "markdown",
      "source": "# data prepocessing",
      "metadata": {
        "id": "wCzk-mMSJOj_",
        "colab_type": "text"
      }
    },
    {
      "cell_type": "code",
      "source": "kdd_train.columns = ['train_duration', 'train_protocol_type', 'train_service', 'train_flag', 'src_bytes',\n                     'dst_bytes', 'land', 'wrong_fragment', 'urgent', 'hot', 'num_failed_logins', 'logged_in',\n                     'num_compromised', 'root_shell', 'su_attempted', 'num_root', 'num_file_creations',\n                     'num_shells', 'num_access_files', 'dummy', 'num_outbound_cmds', 'is_host_login',\n                     'is_guest_login', 'count', 'srv_count', 'serror_rate', 'srv_serror_rate', 'rerror_rate',\n                     'srv_rerror_rate', 'srv_rerror_rate', 'same_srv_rate', 'diff_srv_rate', 'srv_diff_host_rate',\n                     'dst_host_count', 'dst_host_srv_count', 'dst_host_same_srv_rate', 'dst_host_diff_srv_rate',\n                     'dst_host_same_src_port_rate', 'dst_host_srv_diff_host_rate', 'dst_host_serror_rate',\n                     'dst_host_srv_serror_rate', 'train_dst_host_rerror_rate', 'dst_bushost_srv_rerror_rate']",
      "metadata": {
        "id": "-cQMjCrXJOkE",
        "colab_type": "code",
        "colab": {},
        "trusted": true
      },
      "outputs": [],
      "execution_count": 208
    },
    {
      "cell_type": "code",
      "source": "kdd_train.head()",
      "metadata": {
        "id": "KtJw34mAJOkS",
        "colab_type": "code",
        "colab": {
          "base_uri": "https://localhost:8080/",
          "height": 226
        },
        "outputId": "e6f12c39-6ad1-4fc5-ce53-c6f223e33738",
        "trusted": true
      },
      "outputs": [
        {
          "execution_count": 209,
          "output_type": "execute_result",
          "data": {
            "text/plain": "   train_duration train_protocol_type train_service train_flag  src_bytes  \\\n0               0                 udp         other         SF        146   \n1               0                 tcp       private         S0          0   \n2               0                 tcp          http         SF        232   \n3               0                 tcp          http         SF        199   \n4               0                 tcp       private        REJ          0   \n\n   dst_bytes  land  wrong_fragment  urgent  hot  ...  dst_host_count  \\\n0          0     0               0       0    0  ...            0.00   \n1          0     0               0       0    0  ...            0.10   \n2       8153     0               0       0    0  ...            1.00   \n3        420     0               0       0    0  ...            1.00   \n4          0     0               0       0    0  ...            0.07   \n\n   dst_host_srv_count  dst_host_same_srv_rate  dst_host_diff_srv_rate  \\\n0                0.60                    0.88                    0.00   \n1                0.05                    0.00                    0.00   \n2                0.00                    0.03                    0.04   \n3                0.00                    0.00                    0.00   \n4                0.07                    0.00                    0.00   \n\n   dst_host_same_src_port_rate  dst_host_srv_diff_host_rate  \\\n0                         0.00                         0.00   \n1                         1.00                         1.00   \n2                         0.03                         0.01   \n3                         0.00                         0.00   \n4                         0.00                         0.00   \n\n   dst_host_serror_rate  dst_host_srv_serror_rate  train_dst_host_rerror_rate  \\\n0                   0.0                      0.00                      normal   \n1                   0.0                      0.00                     neptune   \n2                   0.0                      0.01                      normal   \n3                   0.0                      0.00                      normal   \n4                   1.0                      1.00                     neptune   \n\n   dst_bushost_srv_rerror_rate  \n0                           15  \n1                           19  \n2                           21  \n3                           21  \n4                           21  \n\n[5 rows x 43 columns]",
            "text/html": "<div>\n<style scoped>\n    .dataframe tbody tr th:only-of-type {\n        vertical-align: middle;\n    }\n\n    .dataframe tbody tr th {\n        vertical-align: top;\n    }\n\n    .dataframe thead th {\n        text-align: right;\n    }\n</style>\n<table border=\"1\" class=\"dataframe\">\n  <thead>\n    <tr style=\"text-align: right;\">\n      <th></th>\n      <th>train_duration</th>\n      <th>train_protocol_type</th>\n      <th>train_service</th>\n      <th>train_flag</th>\n      <th>src_bytes</th>\n      <th>dst_bytes</th>\n      <th>land</th>\n      <th>wrong_fragment</th>\n      <th>urgent</th>\n      <th>hot</th>\n      <th>...</th>\n      <th>dst_host_count</th>\n      <th>dst_host_srv_count</th>\n      <th>dst_host_same_srv_rate</th>\n      <th>dst_host_diff_srv_rate</th>\n      <th>dst_host_same_src_port_rate</th>\n      <th>dst_host_srv_diff_host_rate</th>\n      <th>dst_host_serror_rate</th>\n      <th>dst_host_srv_serror_rate</th>\n      <th>train_dst_host_rerror_rate</th>\n      <th>dst_bushost_srv_rerror_rate</th>\n    </tr>\n  </thead>\n  <tbody>\n    <tr>\n      <th>0</th>\n      <td>0</td>\n      <td>udp</td>\n      <td>other</td>\n      <td>SF</td>\n      <td>146</td>\n      <td>0</td>\n      <td>0</td>\n      <td>0</td>\n      <td>0</td>\n      <td>0</td>\n      <td>...</td>\n      <td>0.00</td>\n      <td>0.60</td>\n      <td>0.88</td>\n      <td>0.00</td>\n      <td>0.00</td>\n      <td>0.00</td>\n      <td>0.0</td>\n      <td>0.00</td>\n      <td>normal</td>\n      <td>15</td>\n    </tr>\n    <tr>\n      <th>1</th>\n      <td>0</td>\n      <td>tcp</td>\n      <td>private</td>\n      <td>S0</td>\n      <td>0</td>\n      <td>0</td>\n      <td>0</td>\n      <td>0</td>\n      <td>0</td>\n      <td>0</td>\n      <td>...</td>\n      <td>0.10</td>\n      <td>0.05</td>\n      <td>0.00</td>\n      <td>0.00</td>\n      <td>1.00</td>\n      <td>1.00</td>\n      <td>0.0</td>\n      <td>0.00</td>\n      <td>neptune</td>\n      <td>19</td>\n    </tr>\n    <tr>\n      <th>2</th>\n      <td>0</td>\n      <td>tcp</td>\n      <td>http</td>\n      <td>SF</td>\n      <td>232</td>\n      <td>8153</td>\n      <td>0</td>\n      <td>0</td>\n      <td>0</td>\n      <td>0</td>\n      <td>...</td>\n      <td>1.00</td>\n      <td>0.00</td>\n      <td>0.03</td>\n      <td>0.04</td>\n      <td>0.03</td>\n      <td>0.01</td>\n      <td>0.0</td>\n      <td>0.01</td>\n      <td>normal</td>\n      <td>21</td>\n    </tr>\n    <tr>\n      <th>3</th>\n      <td>0</td>\n      <td>tcp</td>\n      <td>http</td>\n      <td>SF</td>\n      <td>199</td>\n      <td>420</td>\n      <td>0</td>\n      <td>0</td>\n      <td>0</td>\n      <td>0</td>\n      <td>...</td>\n      <td>1.00</td>\n      <td>0.00</td>\n      <td>0.00</td>\n      <td>0.00</td>\n      <td>0.00</td>\n      <td>0.00</td>\n      <td>0.0</td>\n      <td>0.00</td>\n      <td>normal</td>\n      <td>21</td>\n    </tr>\n    <tr>\n      <th>4</th>\n      <td>0</td>\n      <td>tcp</td>\n      <td>private</td>\n      <td>REJ</td>\n      <td>0</td>\n      <td>0</td>\n      <td>0</td>\n      <td>0</td>\n      <td>0</td>\n      <td>0</td>\n      <td>...</td>\n      <td>0.07</td>\n      <td>0.07</td>\n      <td>0.00</td>\n      <td>0.00</td>\n      <td>0.00</td>\n      <td>0.00</td>\n      <td>1.0</td>\n      <td>1.00</td>\n      <td>neptune</td>\n      <td>21</td>\n    </tr>\n  </tbody>\n</table>\n<p>5 rows × 43 columns</p>\n</div>"
          },
          "metadata": {}
        }
      ],
      "execution_count": 209
    },
    {
      "cell_type": "code",
      "source": "# Dropping Unessasry coloumns\nkdd_train_clean = kdd_train.drop(\n    ['wrong_fragment', 'urgent', 'num_failed_logins', 'num_file_creations', 'num_shells', 'dummy',\n     'num_outbound_cmds'], axis=1)",
      "metadata": {
        "id": "UVsdqVbKJOkg",
        "colab_type": "code",
        "colab": {},
        "trusted": true
      },
      "outputs": [],
      "execution_count": 210
    },
    {
      "cell_type": "code",
      "source": "kdd_train_clean.head()",
      "metadata": {
        "id": "aX6MuhGcJOks",
        "colab_type": "code",
        "colab": {
          "base_uri": "https://localhost:8080/",
          "height": 226
        },
        "outputId": "8d7b0129-7c4c-4530-da5b-3209aaf624ce",
        "trusted": true
      },
      "outputs": [
        {
          "execution_count": 211,
          "output_type": "execute_result",
          "data": {
            "text/plain": "   train_duration train_protocol_type train_service train_flag  src_bytes  \\\n0               0                 udp         other         SF        146   \n1               0                 tcp       private         S0          0   \n2               0                 tcp          http         SF        232   \n3               0                 tcp          http         SF        199   \n4               0                 tcp       private        REJ          0   \n\n   dst_bytes  land  hot  logged_in  num_compromised  ...  dst_host_count  \\\n0          0     0    0          0                0  ...            0.00   \n1          0     0    0          0                0  ...            0.10   \n2       8153     0    0          1                0  ...            1.00   \n3        420     0    0          1                0  ...            1.00   \n4          0     0    0          0                0  ...            0.07   \n\n   dst_host_srv_count  dst_host_same_srv_rate  dst_host_diff_srv_rate  \\\n0                0.60                    0.88                    0.00   \n1                0.05                    0.00                    0.00   \n2                0.00                    0.03                    0.04   \n3                0.00                    0.00                    0.00   \n4                0.07                    0.00                    0.00   \n\n   dst_host_same_src_port_rate  dst_host_srv_diff_host_rate  \\\n0                         0.00                         0.00   \n1                         1.00                         1.00   \n2                         0.03                         0.01   \n3                         0.00                         0.00   \n4                         0.00                         0.00   \n\n   dst_host_serror_rate  dst_host_srv_serror_rate  train_dst_host_rerror_rate  \\\n0                   0.0                      0.00                      normal   \n1                   0.0                      0.00                     neptune   \n2                   0.0                      0.01                      normal   \n3                   0.0                      0.00                      normal   \n4                   1.0                      1.00                     neptune   \n\n   dst_bushost_srv_rerror_rate  \n0                           15  \n1                           19  \n2                           21  \n3                           21  \n4                           21  \n\n[5 rows x 36 columns]",
            "text/html": "<div>\n<style scoped>\n    .dataframe tbody tr th:only-of-type {\n        vertical-align: middle;\n    }\n\n    .dataframe tbody tr th {\n        vertical-align: top;\n    }\n\n    .dataframe thead th {\n        text-align: right;\n    }\n</style>\n<table border=\"1\" class=\"dataframe\">\n  <thead>\n    <tr style=\"text-align: right;\">\n      <th></th>\n      <th>train_duration</th>\n      <th>train_protocol_type</th>\n      <th>train_service</th>\n      <th>train_flag</th>\n      <th>src_bytes</th>\n      <th>dst_bytes</th>\n      <th>land</th>\n      <th>hot</th>\n      <th>logged_in</th>\n      <th>num_compromised</th>\n      <th>...</th>\n      <th>dst_host_count</th>\n      <th>dst_host_srv_count</th>\n      <th>dst_host_same_srv_rate</th>\n      <th>dst_host_diff_srv_rate</th>\n      <th>dst_host_same_src_port_rate</th>\n      <th>dst_host_srv_diff_host_rate</th>\n      <th>dst_host_serror_rate</th>\n      <th>dst_host_srv_serror_rate</th>\n      <th>train_dst_host_rerror_rate</th>\n      <th>dst_bushost_srv_rerror_rate</th>\n    </tr>\n  </thead>\n  <tbody>\n    <tr>\n      <th>0</th>\n      <td>0</td>\n      <td>udp</td>\n      <td>other</td>\n      <td>SF</td>\n      <td>146</td>\n      <td>0</td>\n      <td>0</td>\n      <td>0</td>\n      <td>0</td>\n      <td>0</td>\n      <td>...</td>\n      <td>0.00</td>\n      <td>0.60</td>\n      <td>0.88</td>\n      <td>0.00</td>\n      <td>0.00</td>\n      <td>0.00</td>\n      <td>0.0</td>\n      <td>0.00</td>\n      <td>normal</td>\n      <td>15</td>\n    </tr>\n    <tr>\n      <th>1</th>\n      <td>0</td>\n      <td>tcp</td>\n      <td>private</td>\n      <td>S0</td>\n      <td>0</td>\n      <td>0</td>\n      <td>0</td>\n      <td>0</td>\n      <td>0</td>\n      <td>0</td>\n      <td>...</td>\n      <td>0.10</td>\n      <td>0.05</td>\n      <td>0.00</td>\n      <td>0.00</td>\n      <td>1.00</td>\n      <td>1.00</td>\n      <td>0.0</td>\n      <td>0.00</td>\n      <td>neptune</td>\n      <td>19</td>\n    </tr>\n    <tr>\n      <th>2</th>\n      <td>0</td>\n      <td>tcp</td>\n      <td>http</td>\n      <td>SF</td>\n      <td>232</td>\n      <td>8153</td>\n      <td>0</td>\n      <td>0</td>\n      <td>1</td>\n      <td>0</td>\n      <td>...</td>\n      <td>1.00</td>\n      <td>0.00</td>\n      <td>0.03</td>\n      <td>0.04</td>\n      <td>0.03</td>\n      <td>0.01</td>\n      <td>0.0</td>\n      <td>0.01</td>\n      <td>normal</td>\n      <td>21</td>\n    </tr>\n    <tr>\n      <th>3</th>\n      <td>0</td>\n      <td>tcp</td>\n      <td>http</td>\n      <td>SF</td>\n      <td>199</td>\n      <td>420</td>\n      <td>0</td>\n      <td>0</td>\n      <td>1</td>\n      <td>0</td>\n      <td>...</td>\n      <td>1.00</td>\n      <td>0.00</td>\n      <td>0.00</td>\n      <td>0.00</td>\n      <td>0.00</td>\n      <td>0.00</td>\n      <td>0.0</td>\n      <td>0.00</td>\n      <td>normal</td>\n      <td>21</td>\n    </tr>\n    <tr>\n      <th>4</th>\n      <td>0</td>\n      <td>tcp</td>\n      <td>private</td>\n      <td>REJ</td>\n      <td>0</td>\n      <td>0</td>\n      <td>0</td>\n      <td>0</td>\n      <td>0</td>\n      <td>0</td>\n      <td>...</td>\n      <td>0.07</td>\n      <td>0.07</td>\n      <td>0.00</td>\n      <td>0.00</td>\n      <td>0.00</td>\n      <td>0.00</td>\n      <td>1.0</td>\n      <td>1.00</td>\n      <td>neptune</td>\n      <td>21</td>\n    </tr>\n  </tbody>\n</table>\n<p>5 rows × 36 columns</p>\n</div>"
          },
          "metadata": {}
        }
      ],
      "execution_count": 211
    },
    {
      "cell_type": "code",
      "source": "kdd_train_clean.info()",
      "metadata": {
        "id": "x91za1a5JOk2",
        "colab_type": "code",
        "colab": {
          "base_uri": "https://localhost:8080/",
          "height": 729
        },
        "outputId": "6289972d-93bb-4bd6-bb39-a7da815b0b47",
        "trusted": true
      },
      "outputs": [
        {
          "name": "stdout",
          "text": "<class 'pandas.core.frame.DataFrame'>\nRangeIndex: 70935 entries, 0 to 70934\nData columns (total 36 columns):\n #   Column                       Non-Null Count  Dtype  \n---  ------                       --------------  -----  \n 0   train_duration               70935 non-null  int64  \n 1   train_protocol_type          70935 non-null  object \n 2   train_service                70935 non-null  object \n 3   train_flag                   70935 non-null  object \n 4   src_bytes                    70935 non-null  int64  \n 5   dst_bytes                    70935 non-null  int64  \n 6   land                         70935 non-null  int64  \n 7   hot                          70935 non-null  int64  \n 8   logged_in                    70935 non-null  int64  \n 9   num_compromised              70935 non-null  int64  \n 10  root_shell                   70935 non-null  int64  \n 11  su_attempted                 70935 non-null  int64  \n 12  num_root                     70935 non-null  int64  \n 13  num_access_files             70935 non-null  int64  \n 14  is_host_login                70935 non-null  int64  \n 15  is_guest_login               70935 non-null  int64  \n 16  count                        70935 non-null  int64  \n 17  srv_count                    70935 non-null  float64\n 18  serror_rate                  70935 non-null  float64\n 19  srv_serror_rate              70935 non-null  float64\n 20  rerror_rate                  70935 non-null  float64\n 21  srv_rerror_rate              70935 non-null  float64\n 22  srv_rerror_rate              70935 non-null  float64\n 23  same_srv_rate                70935 non-null  float64\n 24  diff_srv_rate                70935 non-null  int64  \n 25  srv_diff_host_rate           70935 non-null  int64  \n 26  dst_host_count               70935 non-null  float64\n 27  dst_host_srv_count           70935 non-null  float64\n 28  dst_host_same_srv_rate       70935 non-null  float64\n 29  dst_host_diff_srv_rate       70935 non-null  float64\n 30  dst_host_same_src_port_rate  70935 non-null  float64\n 31  dst_host_srv_diff_host_rate  70935 non-null  float64\n 32  dst_host_serror_rate         70935 non-null  float64\n 33  dst_host_srv_serror_rate     70935 non-null  float64\n 34  train_dst_host_rerror_rate   70935 non-null  object \n 35  dst_bushost_srv_rerror_rate  70935 non-null  int64  \ndtypes: float64(15), int64(17), object(4)\nmemory usage: 18.4+ MB\n",
          "output_type": "stream"
        }
      ],
      "execution_count": 212
    },
    {
      "cell_type": "code",
      "source": "kdd_train_clean.describe()",
      "metadata": {
        "id": "tjhmHcC7JOlD",
        "colab_type": "code",
        "colab": {
          "base_uri": "https://localhost:8080/",
          "height": 320
        },
        "outputId": "f5e4f1dc-c9a9-4afd-cf7e-dde1f1c6f9af",
        "trusted": true
      },
      "outputs": [
        {
          "execution_count": 213,
          "output_type": "execute_result",
          "data": {
            "text/plain": "       train_duration     src_bytes     dst_bytes          land           hot  \\\ncount    70935.000000  7.093500e+04  7.093500e+04  70935.000000  70935.000000   \nmean       289.696158  4.925341e+04  2.154263e+04      0.000183      0.195912   \nstd       2612.079830  5.790573e+06  4.918948e+06      0.013536      2.102326   \nmin          0.000000  0.000000e+00  0.000000e+00      0.000000      0.000000   \n25%          0.000000  0.000000e+00  0.000000e+00      0.000000      0.000000   \n50%          0.000000  4.400000e+01  0.000000e+00      0.000000      0.000000   \n75%          0.000000  2.760000e+02  5.030000e+02      0.000000      0.000000   \nmax      42908.000000  1.167519e+09  1.309937e+09      1.000000     77.000000   \n\n          logged_in  num_compromised    root_shell  su_attempted  \\\ncount  70935.000000     70935.000000  70935.000000  70935.000000   \nmean       0.393783         0.323000      0.001396      0.001142   \nstd        0.488591        30.060391      0.037333      0.045817   \nmin        0.000000         0.000000      0.000000      0.000000   \n25%        0.000000         0.000000      0.000000      0.000000   \n50%        0.000000         0.000000      0.000000      0.000000   \n75%        1.000000         0.000000      0.000000      0.000000   \nmax        1.000000      7479.000000      1.000000      2.000000   \n\n           num_root  ...  srv_diff_host_rate  dst_host_count  \\\ncount  70935.000000  ...        70935.000000    70935.000000   \nmean       0.345006  ...          115.152520        0.519524   \nstd       30.467673  ...          110.586105        0.449000   \nmin        0.000000  ...            0.000000        0.000000   \n25%        0.000000  ...           10.000000        0.050000   \n50%        0.000000  ...           62.000000        0.510000   \n75%        0.000000  ...          255.000000        1.000000   \nmax     7468.000000  ...          255.000000        1.000000   \n\n       dst_host_srv_count  dst_host_same_srv_rate  dst_host_diff_srv_rate  \\\ncount        70935.000000            70935.000000            70935.000000   \nmean             0.083200                0.148568                0.032657   \nstd              0.189008                0.309763                0.113052   \nmin              0.000000                0.000000                0.000000   \n25%              0.000000                0.000000                0.000000   \n50%              0.030000                0.000000                0.000000   \n75%              0.070000                0.060000                0.020000   \nmax              1.000000                1.000000                1.000000   \n\n       dst_host_same_src_port_rate  dst_host_srv_diff_host_rate  \\\ncount                  70935.00000                 70935.000000   \nmean                       0.28556                     0.279606   \nstd                        0.44526                     0.446147   \nmin                        0.00000                     0.000000   \n25%                        0.00000                     0.000000   \n50%                        0.00000                     0.000000   \n75%                        1.00000                     1.000000   \nmax                        1.00000                     1.000000   \n\n       dst_host_serror_rate  dst_host_srv_serror_rate  \\\ncount          70935.000000              70935.000000   \nmean               0.118956                  0.120150   \nstd                0.306729                  0.319169   \nmin                0.000000                  0.000000   \n25%                0.000000                  0.000000   \n50%                0.000000                  0.000000   \n75%                0.000000                  0.000000   \nmax                1.000000                  1.000000   \n\n       dst_bushost_srv_rerror_rate  \ncount                 70935.000000  \nmean                     19.492606  \nstd                       2.308464  \nmin                       0.000000  \n25%                      18.000000  \n50%                      20.000000  \n75%                      21.000000  \nmax                      21.000000  \n\n[8 rows x 32 columns]",
            "text/html": "<div>\n<style scoped>\n    .dataframe tbody tr th:only-of-type {\n        vertical-align: middle;\n    }\n\n    .dataframe tbody tr th {\n        vertical-align: top;\n    }\n\n    .dataframe thead th {\n        text-align: right;\n    }\n</style>\n<table border=\"1\" class=\"dataframe\">\n  <thead>\n    <tr style=\"text-align: right;\">\n      <th></th>\n      <th>train_duration</th>\n      <th>src_bytes</th>\n      <th>dst_bytes</th>\n      <th>land</th>\n      <th>hot</th>\n      <th>logged_in</th>\n      <th>num_compromised</th>\n      <th>root_shell</th>\n      <th>su_attempted</th>\n      <th>num_root</th>\n      <th>...</th>\n      <th>srv_diff_host_rate</th>\n      <th>dst_host_count</th>\n      <th>dst_host_srv_count</th>\n      <th>dst_host_same_srv_rate</th>\n      <th>dst_host_diff_srv_rate</th>\n      <th>dst_host_same_src_port_rate</th>\n      <th>dst_host_srv_diff_host_rate</th>\n      <th>dst_host_serror_rate</th>\n      <th>dst_host_srv_serror_rate</th>\n      <th>dst_bushost_srv_rerror_rate</th>\n    </tr>\n  </thead>\n  <tbody>\n    <tr>\n      <th>count</th>\n      <td>70935.000000</td>\n      <td>7.093500e+04</td>\n      <td>7.093500e+04</td>\n      <td>70935.000000</td>\n      <td>70935.000000</td>\n      <td>70935.000000</td>\n      <td>70935.000000</td>\n      <td>70935.000000</td>\n      <td>70935.000000</td>\n      <td>70935.000000</td>\n      <td>...</td>\n      <td>70935.000000</td>\n      <td>70935.000000</td>\n      <td>70935.000000</td>\n      <td>70935.000000</td>\n      <td>70935.000000</td>\n      <td>70935.00000</td>\n      <td>70935.000000</td>\n      <td>70935.000000</td>\n      <td>70935.000000</td>\n      <td>70935.000000</td>\n    </tr>\n    <tr>\n      <th>mean</th>\n      <td>289.696158</td>\n      <td>4.925341e+04</td>\n      <td>2.154263e+04</td>\n      <td>0.000183</td>\n      <td>0.195912</td>\n      <td>0.393783</td>\n      <td>0.323000</td>\n      <td>0.001396</td>\n      <td>0.001142</td>\n      <td>0.345006</td>\n      <td>...</td>\n      <td>115.152520</td>\n      <td>0.519524</td>\n      <td>0.083200</td>\n      <td>0.148568</td>\n      <td>0.032657</td>\n      <td>0.28556</td>\n      <td>0.279606</td>\n      <td>0.118956</td>\n      <td>0.120150</td>\n      <td>19.492606</td>\n    </tr>\n    <tr>\n      <th>std</th>\n      <td>2612.079830</td>\n      <td>5.790573e+06</td>\n      <td>4.918948e+06</td>\n      <td>0.013536</td>\n      <td>2.102326</td>\n      <td>0.488591</td>\n      <td>30.060391</td>\n      <td>0.037333</td>\n      <td>0.045817</td>\n      <td>30.467673</td>\n      <td>...</td>\n      <td>110.586105</td>\n      <td>0.449000</td>\n      <td>0.189008</td>\n      <td>0.309763</td>\n      <td>0.113052</td>\n      <td>0.44526</td>\n      <td>0.446147</td>\n      <td>0.306729</td>\n      <td>0.319169</td>\n      <td>2.308464</td>\n    </tr>\n    <tr>\n      <th>min</th>\n      <td>0.000000</td>\n      <td>0.000000e+00</td>\n      <td>0.000000e+00</td>\n      <td>0.000000</td>\n      <td>0.000000</td>\n      <td>0.000000</td>\n      <td>0.000000</td>\n      <td>0.000000</td>\n      <td>0.000000</td>\n      <td>0.000000</td>\n      <td>...</td>\n      <td>0.000000</td>\n      <td>0.000000</td>\n      <td>0.000000</td>\n      <td>0.000000</td>\n      <td>0.000000</td>\n      <td>0.00000</td>\n      <td>0.000000</td>\n      <td>0.000000</td>\n      <td>0.000000</td>\n      <td>0.000000</td>\n    </tr>\n    <tr>\n      <th>25%</th>\n      <td>0.000000</td>\n      <td>0.000000e+00</td>\n      <td>0.000000e+00</td>\n      <td>0.000000</td>\n      <td>0.000000</td>\n      <td>0.000000</td>\n      <td>0.000000</td>\n      <td>0.000000</td>\n      <td>0.000000</td>\n      <td>0.000000</td>\n      <td>...</td>\n      <td>10.000000</td>\n      <td>0.050000</td>\n      <td>0.000000</td>\n      <td>0.000000</td>\n      <td>0.000000</td>\n      <td>0.00000</td>\n      <td>0.000000</td>\n      <td>0.000000</td>\n      <td>0.000000</td>\n      <td>18.000000</td>\n    </tr>\n    <tr>\n      <th>50%</th>\n      <td>0.000000</td>\n      <td>4.400000e+01</td>\n      <td>0.000000e+00</td>\n      <td>0.000000</td>\n      <td>0.000000</td>\n      <td>0.000000</td>\n      <td>0.000000</td>\n      <td>0.000000</td>\n      <td>0.000000</td>\n      <td>0.000000</td>\n      <td>...</td>\n      <td>62.000000</td>\n      <td>0.510000</td>\n      <td>0.030000</td>\n      <td>0.000000</td>\n      <td>0.000000</td>\n      <td>0.00000</td>\n      <td>0.000000</td>\n      <td>0.000000</td>\n      <td>0.000000</td>\n      <td>20.000000</td>\n    </tr>\n    <tr>\n      <th>75%</th>\n      <td>0.000000</td>\n      <td>2.760000e+02</td>\n      <td>5.030000e+02</td>\n      <td>0.000000</td>\n      <td>0.000000</td>\n      <td>1.000000</td>\n      <td>0.000000</td>\n      <td>0.000000</td>\n      <td>0.000000</td>\n      <td>0.000000</td>\n      <td>...</td>\n      <td>255.000000</td>\n      <td>1.000000</td>\n      <td>0.070000</td>\n      <td>0.060000</td>\n      <td>0.020000</td>\n      <td>1.00000</td>\n      <td>1.000000</td>\n      <td>0.000000</td>\n      <td>0.000000</td>\n      <td>21.000000</td>\n    </tr>\n    <tr>\n      <th>max</th>\n      <td>42908.000000</td>\n      <td>1.167519e+09</td>\n      <td>1.309937e+09</td>\n      <td>1.000000</td>\n      <td>77.000000</td>\n      <td>1.000000</td>\n      <td>7479.000000</td>\n      <td>1.000000</td>\n      <td>2.000000</td>\n      <td>7468.000000</td>\n      <td>...</td>\n      <td>255.000000</td>\n      <td>1.000000</td>\n      <td>1.000000</td>\n      <td>1.000000</td>\n      <td>1.000000</td>\n      <td>1.00000</td>\n      <td>1.000000</td>\n      <td>1.000000</td>\n      <td>1.000000</td>\n      <td>21.000000</td>\n    </tr>\n  </tbody>\n</table>\n<p>8 rows × 32 columns</p>\n</div>"
          },
          "metadata": {}
        }
      ],
      "execution_count": 213
    },
    {
      "cell_type": "code",
      "source": "train_protocol_type = {'tcp': 0, 'udp': 1, 'icmp': 2}\nkdd_train_clean['train_protocol_type'].value_counts()",
      "metadata": {
        "id": "D0BlxWMwJOlO",
        "colab_type": "code",
        "colab": {
          "base_uri": "https://localhost:8080/",
          "height": 86
        },
        "outputId": "2ee25b67-e459-4d54-fa1f-6a77f018831e",
        "trusted": true
      },
      "outputs": [
        {
          "execution_count": 214,
          "output_type": "execute_result",
          "data": {
            "text/plain": "tcp     57762\nudp      8498\nicmp     4675\nName: train_protocol_type, dtype: int64"
          },
          "metadata": {}
        }
      ],
      "execution_count": 214
    },
    {
      "cell_type": "code",
      "source": "kdd_train_clean['train_service'].value_counts()",
      "metadata": {
        "scrolled": true,
        "id": "Y8URixVGJOld",
        "colab_type": "code",
        "colab": {
          "base_uri": "https://localhost:8080/",
          "height": 225
        },
        "outputId": "b1efe17d-e2e5-41e5-cdca-f9068c28b483",
        "trusted": true
      },
      "outputs": [
        {
          "execution_count": 215,
          "output_type": "execute_result",
          "data": {
            "text/plain": "http         22487\nprivate      12455\ndomain_u      5106\nsmtp          4137\nftp_data      3899\n             ...  \npm_dump          4\nhttp_8001        2\naol              1\nhttp_2784        1\ntftp_u           1\nName: train_service, Length: 69, dtype: int64"
          },
          "metadata": {}
        }
      ],
      "execution_count": 215
    },
    {
      "cell_type": "code",
      "source": "kdd_train_clean['train_flag'].value_counts()",
      "metadata": {
        "id": "eoH7qZfNJOlq",
        "colab_type": "code",
        "colab": {
          "base_uri": "https://localhost:8080/",
          "height": 225
        },
        "outputId": "61c824db-ea2a-4dbe-aebb-53022ac5222b",
        "trusted": true
      },
      "outputs": [
        {
          "execution_count": 216,
          "output_type": "execute_result",
          "data": {
            "text/plain": "SF        42099\nS0        19710\nREJ        6336\nRSTR       1368\nRSTO        867\nS1          215\nSH          137\nS2           78\nRSTOS0       62\nS3           38\nOTH          25\nName: train_flag, dtype: int64"
          },
          "metadata": {}
        }
      ],
      "execution_count": 216
    },
    {
      "cell_type": "code",
      "source": "kdd_train_clean['train_dst_host_rerror_rate'].value_counts()",
      "metadata": {
        "id": "OFC01SqPJOl2",
        "colab_type": "code",
        "colab": {
          "base_uri": "https://localhost:8080/",
          "height": 434
        },
        "outputId": "55f41b5e-089e-4994-81e5-b784999888a5",
        "trusted": true
      },
      "outputs": [
        {
          "execution_count": 217,
          "output_type": "execute_result",
          "data": {
            "text/plain": "normal             37738\nneptune            23312\nsatan               2071\nipsweep             2036\nportsweep           1659\nsmurf               1493\nnmap                 839\nback                 554\nwarezclient          518\nteardrop             505\npod                  105\nguess_passwd          28\nbuffer_overflow       18\nwarezmaster           13\nrootkit                9\nland                   9\nimap                   8\nmultihop               5\nftp_write              4\nloadmodule             4\nphf                    3\nspy                    2\nperl                   2\nName: train_dst_host_rerror_rate, dtype: int64"
          },
          "metadata": {}
        }
      ],
      "execution_count": 217
    },
    {
      "cell_type": "code",
      "source": "train_protocol_type = {'tcp': 0, 'udp': 1, 'icmp': 2}\ntrain_protocol_type.items()\nkdd_train_clean.train_protocol_type = [train_protocol_type[item] for item in kdd_train_clean.train_protocol_type]\nkdd_train_clean.head(20)\n",
      "metadata": {
        "id": "lukCnpOxJOmA",
        "colab_type": "code",
        "colab": {
          "base_uri": "https://localhost:8080/",
          "height": 801
        },
        "outputId": "167698fa-5bf6-45d0-f7ea-8a6a844c06b5",
        "trusted": true
      },
      "outputs": [
        {
          "execution_count": 218,
          "output_type": "execute_result",
          "data": {
            "text/plain": "    train_duration  train_protocol_type train_service train_flag  src_bytes  \\\n0                0                    1         other         SF        146   \n1                0                    0       private         S0          0   \n2                0                    0          http         SF        232   \n3                0                    0          http         SF        199   \n4                0                    0       private        REJ          0   \n5                0                    0       private         S0          0   \n6                0                    0       private         S0          0   \n7                0                    0    remote_job         S0          0   \n8                0                    0       private         S0          0   \n9                0                    0       private        REJ          0   \n10               0                    0       private         S0          0   \n11               0                    0          http         SF        287   \n12               0                    0      ftp_data         SF        334   \n13               0                    0          name         S0          0   \n14               0                    0    netbios_ns         S0          0   \n15               0                    0          http         SF        300   \n16               0                    2         eco_i         SF         18   \n17               0                    0          http         SF        233   \n18               0                    0          http         SF        343   \n19               0                    0           mtp         S0          0   \n\n    dst_bytes  land  hot  logged_in  num_compromised  ...  dst_host_count  \\\n0           0     0    0          0                0  ...            0.00   \n1           0     0    0          0                0  ...            0.10   \n2        8153     0    0          1                0  ...            1.00   \n3         420     0    0          1                0  ...            1.00   \n4           0     0    0          0                0  ...            0.07   \n5           0     0    0          0                0  ...            0.04   \n6           0     0    0          0                0  ...            0.06   \n7           0     0    0          0                0  ...            0.09   \n8           0     0    0          0                0  ...            0.05   \n9           0     0    0          0                0  ...            0.05   \n10          0     0    0          0                0  ...            0.05   \n11       2251     0    0          1                0  ...            1.00   \n12          0     0    0          1                0  ...            1.00   \n13          0     0    0          0                0  ...            0.00   \n14          0     0    0          0                0  ...            0.01   \n15      13788     0    0          1                0  ...            1.00   \n16          0     0    0          0                0  ...            1.00   \n17        616     0    0          1                0  ...            1.00   \n18       1178     0    0          1                0  ...            1.00   \n19          0     0    0          0                0  ...            0.09   \n\n    dst_host_srv_count  dst_host_same_srv_rate  dst_host_diff_srv_rate  \\\n0                 0.60                    0.88                    0.00   \n1                 0.05                    0.00                    0.00   \n2                 0.00                    0.03                    0.04   \n3                 0.00                    0.00                    0.00   \n4                 0.07                    0.00                    0.00   \n5                 0.05                    0.00                    0.00   \n6                 0.07                    0.00                    0.00   \n7                 0.05                    0.00                    0.00   \n8                 0.06                    0.00                    0.00   \n9                 0.07                    0.00                    0.00   \n10                0.07                    0.00                    0.00   \n11                0.00                    0.12                    0.03   \n12                0.00                    1.00                    0.20   \n13                0.07                    0.00                    0.00   \n14                0.06                    0.00                    0.00   \n15                0.00                    0.01                    0.02   \n16                0.00                    1.00                    1.00   \n17                0.00                    0.02                    0.03   \n18                0.00                    0.01                    0.04   \n19                0.05                    0.00                    0.00   \n\n    dst_host_same_src_port_rate  dst_host_srv_diff_host_rate  \\\n0                          0.00                         0.00   \n1                          1.00                         1.00   \n2                          0.03                         0.01   \n3                          0.00                         0.00   \n4                          0.00                         0.00   \n5                          1.00                         1.00   \n6                          1.00                         1.00   \n7                          1.00                         1.00   \n8                          1.00                         1.00   \n9                          0.00                         0.00   \n10                         1.00                         1.00   \n11                         0.00                         0.00   \n12                         0.00                         0.00   \n13                         1.00                         1.00   \n14                         1.00                         1.00   \n15                         0.00                         0.00   \n16                         0.00                         0.00   \n17                         0.00                         0.00   \n18                         0.00                         0.00   \n19                         1.00                         1.00   \n\n    dst_host_serror_rate  dst_host_srv_serror_rate  \\\n0                   0.00                      0.00   \n1                   0.00                      0.00   \n2                   0.00                      0.01   \n3                   0.00                      0.00   \n4                   1.00                      1.00   \n5                   0.00                      0.00   \n6                   0.00                      0.00   \n7                   0.00                      0.00   \n8                   0.00                      0.00   \n9                   1.00                      1.00   \n10                  0.00                      0.00   \n11                  0.00                      0.00   \n12                  0.00                      0.00   \n13                  0.00                      0.00   \n14                  0.00                      0.00   \n15                  0.00                      0.00   \n16                  0.00                      0.00   \n17                  0.02                      0.00   \n18                  0.00                      0.00   \n19                  0.00                      0.00   \n\n    train_dst_host_rerror_rate  dst_bushost_srv_rerror_rate  \n0                       normal                           15  \n1                      neptune                           19  \n2                       normal                           21  \n3                       normal                           21  \n4                      neptune                           21  \n5                      neptune                           21  \n6                      neptune                           21  \n7                      neptune                           21  \n8                      neptune                           21  \n9                      neptune                           21  \n10                     neptune                           21  \n11                      normal                           21  \n12                 warezclient                           15  \n13                     neptune                           19  \n14                     neptune                           18  \n15                      normal                           21  \n16                     ipsweep                           18  \n17                      normal                           21  \n18                      normal                           21  \n19                     neptune                           18  \n\n[20 rows x 36 columns]",
            "text/html": "<div>\n<style scoped>\n    .dataframe tbody tr th:only-of-type {\n        vertical-align: middle;\n    }\n\n    .dataframe tbody tr th {\n        vertical-align: top;\n    }\n\n    .dataframe thead th {\n        text-align: right;\n    }\n</style>\n<table border=\"1\" class=\"dataframe\">\n  <thead>\n    <tr style=\"text-align: right;\">\n      <th></th>\n      <th>train_duration</th>\n      <th>train_protocol_type</th>\n      <th>train_service</th>\n      <th>train_flag</th>\n      <th>src_bytes</th>\n      <th>dst_bytes</th>\n      <th>land</th>\n      <th>hot</th>\n      <th>logged_in</th>\n      <th>num_compromised</th>\n      <th>...</th>\n      <th>dst_host_count</th>\n      <th>dst_host_srv_count</th>\n      <th>dst_host_same_srv_rate</th>\n      <th>dst_host_diff_srv_rate</th>\n      <th>dst_host_same_src_port_rate</th>\n      <th>dst_host_srv_diff_host_rate</th>\n      <th>dst_host_serror_rate</th>\n      <th>dst_host_srv_serror_rate</th>\n      <th>train_dst_host_rerror_rate</th>\n      <th>dst_bushost_srv_rerror_rate</th>\n    </tr>\n  </thead>\n  <tbody>\n    <tr>\n      <th>0</th>\n      <td>0</td>\n      <td>1</td>\n      <td>other</td>\n      <td>SF</td>\n      <td>146</td>\n      <td>0</td>\n      <td>0</td>\n      <td>0</td>\n      <td>0</td>\n      <td>0</td>\n      <td>...</td>\n      <td>0.00</td>\n      <td>0.60</td>\n      <td>0.88</td>\n      <td>0.00</td>\n      <td>0.00</td>\n      <td>0.00</td>\n      <td>0.00</td>\n      <td>0.00</td>\n      <td>normal</td>\n      <td>15</td>\n    </tr>\n    <tr>\n      <th>1</th>\n      <td>0</td>\n      <td>0</td>\n      <td>private</td>\n      <td>S0</td>\n      <td>0</td>\n      <td>0</td>\n      <td>0</td>\n      <td>0</td>\n      <td>0</td>\n      <td>0</td>\n      <td>...</td>\n      <td>0.10</td>\n      <td>0.05</td>\n      <td>0.00</td>\n      <td>0.00</td>\n      <td>1.00</td>\n      <td>1.00</td>\n      <td>0.00</td>\n      <td>0.00</td>\n      <td>neptune</td>\n      <td>19</td>\n    </tr>\n    <tr>\n      <th>2</th>\n      <td>0</td>\n      <td>0</td>\n      <td>http</td>\n      <td>SF</td>\n      <td>232</td>\n      <td>8153</td>\n      <td>0</td>\n      <td>0</td>\n      <td>1</td>\n      <td>0</td>\n      <td>...</td>\n      <td>1.00</td>\n      <td>0.00</td>\n      <td>0.03</td>\n      <td>0.04</td>\n      <td>0.03</td>\n      <td>0.01</td>\n      <td>0.00</td>\n      <td>0.01</td>\n      <td>normal</td>\n      <td>21</td>\n    </tr>\n    <tr>\n      <th>3</th>\n      <td>0</td>\n      <td>0</td>\n      <td>http</td>\n      <td>SF</td>\n      <td>199</td>\n      <td>420</td>\n      <td>0</td>\n      <td>0</td>\n      <td>1</td>\n      <td>0</td>\n      <td>...</td>\n      <td>1.00</td>\n      <td>0.00</td>\n      <td>0.00</td>\n      <td>0.00</td>\n      <td>0.00</td>\n      <td>0.00</td>\n      <td>0.00</td>\n      <td>0.00</td>\n      <td>normal</td>\n      <td>21</td>\n    </tr>\n    <tr>\n      <th>4</th>\n      <td>0</td>\n      <td>0</td>\n      <td>private</td>\n      <td>REJ</td>\n      <td>0</td>\n      <td>0</td>\n      <td>0</td>\n      <td>0</td>\n      <td>0</td>\n      <td>0</td>\n      <td>...</td>\n      <td>0.07</td>\n      <td>0.07</td>\n      <td>0.00</td>\n      <td>0.00</td>\n      <td>0.00</td>\n      <td>0.00</td>\n      <td>1.00</td>\n      <td>1.00</td>\n      <td>neptune</td>\n      <td>21</td>\n    </tr>\n    <tr>\n      <th>5</th>\n      <td>0</td>\n      <td>0</td>\n      <td>private</td>\n      <td>S0</td>\n      <td>0</td>\n      <td>0</td>\n      <td>0</td>\n      <td>0</td>\n      <td>0</td>\n      <td>0</td>\n      <td>...</td>\n      <td>0.04</td>\n      <td>0.05</td>\n      <td>0.00</td>\n      <td>0.00</td>\n      <td>1.00</td>\n      <td>1.00</td>\n      <td>0.00</td>\n      <td>0.00</td>\n      <td>neptune</td>\n      <td>21</td>\n    </tr>\n    <tr>\n      <th>6</th>\n      <td>0</td>\n      <td>0</td>\n      <td>private</td>\n      <td>S0</td>\n      <td>0</td>\n      <td>0</td>\n      <td>0</td>\n      <td>0</td>\n      <td>0</td>\n      <td>0</td>\n      <td>...</td>\n      <td>0.06</td>\n      <td>0.07</td>\n      <td>0.00</td>\n      <td>0.00</td>\n      <td>1.00</td>\n      <td>1.00</td>\n      <td>0.00</td>\n      <td>0.00</td>\n      <td>neptune</td>\n      <td>21</td>\n    </tr>\n    <tr>\n      <th>7</th>\n      <td>0</td>\n      <td>0</td>\n      <td>remote_job</td>\n      <td>S0</td>\n      <td>0</td>\n      <td>0</td>\n      <td>0</td>\n      <td>0</td>\n      <td>0</td>\n      <td>0</td>\n      <td>...</td>\n      <td>0.09</td>\n      <td>0.05</td>\n      <td>0.00</td>\n      <td>0.00</td>\n      <td>1.00</td>\n      <td>1.00</td>\n      <td>0.00</td>\n      <td>0.00</td>\n      <td>neptune</td>\n      <td>21</td>\n    </tr>\n    <tr>\n      <th>8</th>\n      <td>0</td>\n      <td>0</td>\n      <td>private</td>\n      <td>S0</td>\n      <td>0</td>\n      <td>0</td>\n      <td>0</td>\n      <td>0</td>\n      <td>0</td>\n      <td>0</td>\n      <td>...</td>\n      <td>0.05</td>\n      <td>0.06</td>\n      <td>0.00</td>\n      <td>0.00</td>\n      <td>1.00</td>\n      <td>1.00</td>\n      <td>0.00</td>\n      <td>0.00</td>\n      <td>neptune</td>\n      <td>21</td>\n    </tr>\n    <tr>\n      <th>9</th>\n      <td>0</td>\n      <td>0</td>\n      <td>private</td>\n      <td>REJ</td>\n      <td>0</td>\n      <td>0</td>\n      <td>0</td>\n      <td>0</td>\n      <td>0</td>\n      <td>0</td>\n      <td>...</td>\n      <td>0.05</td>\n      <td>0.07</td>\n      <td>0.00</td>\n      <td>0.00</td>\n      <td>0.00</td>\n      <td>0.00</td>\n      <td>1.00</td>\n      <td>1.00</td>\n      <td>neptune</td>\n      <td>21</td>\n    </tr>\n    <tr>\n      <th>10</th>\n      <td>0</td>\n      <td>0</td>\n      <td>private</td>\n      <td>S0</td>\n      <td>0</td>\n      <td>0</td>\n      <td>0</td>\n      <td>0</td>\n      <td>0</td>\n      <td>0</td>\n      <td>...</td>\n      <td>0.05</td>\n      <td>0.07</td>\n      <td>0.00</td>\n      <td>0.00</td>\n      <td>1.00</td>\n      <td>1.00</td>\n      <td>0.00</td>\n      <td>0.00</td>\n      <td>neptune</td>\n      <td>21</td>\n    </tr>\n    <tr>\n      <th>11</th>\n      <td>0</td>\n      <td>0</td>\n      <td>http</td>\n      <td>SF</td>\n      <td>287</td>\n      <td>2251</td>\n      <td>0</td>\n      <td>0</td>\n      <td>1</td>\n      <td>0</td>\n      <td>...</td>\n      <td>1.00</td>\n      <td>0.00</td>\n      <td>0.12</td>\n      <td>0.03</td>\n      <td>0.00</td>\n      <td>0.00</td>\n      <td>0.00</td>\n      <td>0.00</td>\n      <td>normal</td>\n      <td>21</td>\n    </tr>\n    <tr>\n      <th>12</th>\n      <td>0</td>\n      <td>0</td>\n      <td>ftp_data</td>\n      <td>SF</td>\n      <td>334</td>\n      <td>0</td>\n      <td>0</td>\n      <td>0</td>\n      <td>1</td>\n      <td>0</td>\n      <td>...</td>\n      <td>1.00</td>\n      <td>0.00</td>\n      <td>1.00</td>\n      <td>0.20</td>\n      <td>0.00</td>\n      <td>0.00</td>\n      <td>0.00</td>\n      <td>0.00</td>\n      <td>warezclient</td>\n      <td>15</td>\n    </tr>\n    <tr>\n      <th>13</th>\n      <td>0</td>\n      <td>0</td>\n      <td>name</td>\n      <td>S0</td>\n      <td>0</td>\n      <td>0</td>\n      <td>0</td>\n      <td>0</td>\n      <td>0</td>\n      <td>0</td>\n      <td>...</td>\n      <td>0.00</td>\n      <td>0.07</td>\n      <td>0.00</td>\n      <td>0.00</td>\n      <td>1.00</td>\n      <td>1.00</td>\n      <td>0.00</td>\n      <td>0.00</td>\n      <td>neptune</td>\n      <td>19</td>\n    </tr>\n    <tr>\n      <th>14</th>\n      <td>0</td>\n      <td>0</td>\n      <td>netbios_ns</td>\n      <td>S0</td>\n      <td>0</td>\n      <td>0</td>\n      <td>0</td>\n      <td>0</td>\n      <td>0</td>\n      <td>0</td>\n      <td>...</td>\n      <td>0.01</td>\n      <td>0.06</td>\n      <td>0.00</td>\n      <td>0.00</td>\n      <td>1.00</td>\n      <td>1.00</td>\n      <td>0.00</td>\n      <td>0.00</td>\n      <td>neptune</td>\n      <td>18</td>\n    </tr>\n    <tr>\n      <th>15</th>\n      <td>0</td>\n      <td>0</td>\n      <td>http</td>\n      <td>SF</td>\n      <td>300</td>\n      <td>13788</td>\n      <td>0</td>\n      <td>0</td>\n      <td>1</td>\n      <td>0</td>\n      <td>...</td>\n      <td>1.00</td>\n      <td>0.00</td>\n      <td>0.01</td>\n      <td>0.02</td>\n      <td>0.00</td>\n      <td>0.00</td>\n      <td>0.00</td>\n      <td>0.00</td>\n      <td>normal</td>\n      <td>21</td>\n    </tr>\n    <tr>\n      <th>16</th>\n      <td>0</td>\n      <td>2</td>\n      <td>eco_i</td>\n      <td>SF</td>\n      <td>18</td>\n      <td>0</td>\n      <td>0</td>\n      <td>0</td>\n      <td>0</td>\n      <td>0</td>\n      <td>...</td>\n      <td>1.00</td>\n      <td>0.00</td>\n      <td>1.00</td>\n      <td>1.00</td>\n      <td>0.00</td>\n      <td>0.00</td>\n      <td>0.00</td>\n      <td>0.00</td>\n      <td>ipsweep</td>\n      <td>18</td>\n    </tr>\n    <tr>\n      <th>17</th>\n      <td>0</td>\n      <td>0</td>\n      <td>http</td>\n      <td>SF</td>\n      <td>233</td>\n      <td>616</td>\n      <td>0</td>\n      <td>0</td>\n      <td>1</td>\n      <td>0</td>\n      <td>...</td>\n      <td>1.00</td>\n      <td>0.00</td>\n      <td>0.02</td>\n      <td>0.03</td>\n      <td>0.00</td>\n      <td>0.00</td>\n      <td>0.02</td>\n      <td>0.00</td>\n      <td>normal</td>\n      <td>21</td>\n    </tr>\n    <tr>\n      <th>18</th>\n      <td>0</td>\n      <td>0</td>\n      <td>http</td>\n      <td>SF</td>\n      <td>343</td>\n      <td>1178</td>\n      <td>0</td>\n      <td>0</td>\n      <td>1</td>\n      <td>0</td>\n      <td>...</td>\n      <td>1.00</td>\n      <td>0.00</td>\n      <td>0.01</td>\n      <td>0.04</td>\n      <td>0.00</td>\n      <td>0.00</td>\n      <td>0.00</td>\n      <td>0.00</td>\n      <td>normal</td>\n      <td>21</td>\n    </tr>\n    <tr>\n      <th>19</th>\n      <td>0</td>\n      <td>0</td>\n      <td>mtp</td>\n      <td>S0</td>\n      <td>0</td>\n      <td>0</td>\n      <td>0</td>\n      <td>0</td>\n      <td>0</td>\n      <td>0</td>\n      <td>...</td>\n      <td>0.09</td>\n      <td>0.05</td>\n      <td>0.00</td>\n      <td>0.00</td>\n      <td>1.00</td>\n      <td>1.00</td>\n      <td>0.00</td>\n      <td>0.00</td>\n      <td>neptune</td>\n      <td>18</td>\n    </tr>\n  </tbody>\n</table>\n<p>20 rows × 36 columns</p>\n</div>"
          },
          "metadata": {}
        }
      ],
      "execution_count": 218
    },
    {
      "cell_type": "code",
      "source": "train_duration = kdd_train_clean['train_duration']",
      "metadata": {
        "id": "hMu_Bb7aJOmM",
        "colab_type": "code",
        "colab": {
          "base_uri": "https://localhost:8080/",
          "height": 1000
        },
        "outputId": "3a2a6040-33b4-415c-c52a-a6c5b5c307ba",
        "trusted": true
      },
      "outputs": [],
      "execution_count": 219
    },
    {
      "cell_type": "code",
      "source": "kdd_train_clean['train_duration'] = np.where((kdd_train_clean.train_duration <= 2), 0, 1)",
      "metadata": {
        "id": "CuXMfRZQJOmc",
        "colab_type": "code",
        "colab": {
          "base_uri": "https://localhost:8080/",
          "height": 141
        },
        "outputId": "0bad62b5-ba42-4990-f988-9e34fd891c8d",
        "trusted": true
      },
      "outputs": [],
      "execution_count": 220
    },
    {
      "cell_type": "code",
      "source": "kdd_train_clean.head(20)",
      "metadata": {
        "id": "uKBYgP9iJOmk",
        "colab_type": "code",
        "colab": {
          "base_uri": "https://localhost:8080/",
          "height": 697
        },
        "outputId": "374f69cb-f32c-40b4-9b2f-e728037c3156",
        "trusted": true
      },
      "outputs": [
        {
          "execution_count": 221,
          "output_type": "execute_result",
          "data": {
            "text/plain": "    train_duration  train_protocol_type train_service train_flag  src_bytes  \\\n0                0                    1         other         SF        146   \n1                0                    0       private         S0          0   \n2                0                    0          http         SF        232   \n3                0                    0          http         SF        199   \n4                0                    0       private        REJ          0   \n5                0                    0       private         S0          0   \n6                0                    0       private         S0          0   \n7                0                    0    remote_job         S0          0   \n8                0                    0       private         S0          0   \n9                0                    0       private        REJ          0   \n10               0                    0       private         S0          0   \n11               0                    0          http         SF        287   \n12               0                    0      ftp_data         SF        334   \n13               0                    0          name         S0          0   \n14               0                    0    netbios_ns         S0          0   \n15               0                    0          http         SF        300   \n16               0                    2         eco_i         SF         18   \n17               0                    0          http         SF        233   \n18               0                    0          http         SF        343   \n19               0                    0           mtp         S0          0   \n\n    dst_bytes  land  hot  logged_in  num_compromised  ...  dst_host_count  \\\n0           0     0    0          0                0  ...            0.00   \n1           0     0    0          0                0  ...            0.10   \n2        8153     0    0          1                0  ...            1.00   \n3         420     0    0          1                0  ...            1.00   \n4           0     0    0          0                0  ...            0.07   \n5           0     0    0          0                0  ...            0.04   \n6           0     0    0          0                0  ...            0.06   \n7           0     0    0          0                0  ...            0.09   \n8           0     0    0          0                0  ...            0.05   \n9           0     0    0          0                0  ...            0.05   \n10          0     0    0          0                0  ...            0.05   \n11       2251     0    0          1                0  ...            1.00   \n12          0     0    0          1                0  ...            1.00   \n13          0     0    0          0                0  ...            0.00   \n14          0     0    0          0                0  ...            0.01   \n15      13788     0    0          1                0  ...            1.00   \n16          0     0    0          0                0  ...            1.00   \n17        616     0    0          1                0  ...            1.00   \n18       1178     0    0          1                0  ...            1.00   \n19          0     0    0          0                0  ...            0.09   \n\n    dst_host_srv_count  dst_host_same_srv_rate  dst_host_diff_srv_rate  \\\n0                 0.60                    0.88                    0.00   \n1                 0.05                    0.00                    0.00   \n2                 0.00                    0.03                    0.04   \n3                 0.00                    0.00                    0.00   \n4                 0.07                    0.00                    0.00   \n5                 0.05                    0.00                    0.00   \n6                 0.07                    0.00                    0.00   \n7                 0.05                    0.00                    0.00   \n8                 0.06                    0.00                    0.00   \n9                 0.07                    0.00                    0.00   \n10                0.07                    0.00                    0.00   \n11                0.00                    0.12                    0.03   \n12                0.00                    1.00                    0.20   \n13                0.07                    0.00                    0.00   \n14                0.06                    0.00                    0.00   \n15                0.00                    0.01                    0.02   \n16                0.00                    1.00                    1.00   \n17                0.00                    0.02                    0.03   \n18                0.00                    0.01                    0.04   \n19                0.05                    0.00                    0.00   \n\n    dst_host_same_src_port_rate  dst_host_srv_diff_host_rate  \\\n0                          0.00                         0.00   \n1                          1.00                         1.00   \n2                          0.03                         0.01   \n3                          0.00                         0.00   \n4                          0.00                         0.00   \n5                          1.00                         1.00   \n6                          1.00                         1.00   \n7                          1.00                         1.00   \n8                          1.00                         1.00   \n9                          0.00                         0.00   \n10                         1.00                         1.00   \n11                         0.00                         0.00   \n12                         0.00                         0.00   \n13                         1.00                         1.00   \n14                         1.00                         1.00   \n15                         0.00                         0.00   \n16                         0.00                         0.00   \n17                         0.00                         0.00   \n18                         0.00                         0.00   \n19                         1.00                         1.00   \n\n    dst_host_serror_rate  dst_host_srv_serror_rate  \\\n0                   0.00                      0.00   \n1                   0.00                      0.00   \n2                   0.00                      0.01   \n3                   0.00                      0.00   \n4                   1.00                      1.00   \n5                   0.00                      0.00   \n6                   0.00                      0.00   \n7                   0.00                      0.00   \n8                   0.00                      0.00   \n9                   1.00                      1.00   \n10                  0.00                      0.00   \n11                  0.00                      0.00   \n12                  0.00                      0.00   \n13                  0.00                      0.00   \n14                  0.00                      0.00   \n15                  0.00                      0.00   \n16                  0.00                      0.00   \n17                  0.02                      0.00   \n18                  0.00                      0.00   \n19                  0.00                      0.00   \n\n    train_dst_host_rerror_rate  dst_bushost_srv_rerror_rate  \n0                       normal                           15  \n1                      neptune                           19  \n2                       normal                           21  \n3                       normal                           21  \n4                      neptune                           21  \n5                      neptune                           21  \n6                      neptune                           21  \n7                      neptune                           21  \n8                      neptune                           21  \n9                      neptune                           21  \n10                     neptune                           21  \n11                      normal                           21  \n12                 warezclient                           15  \n13                     neptune                           19  \n14                     neptune                           18  \n15                      normal                           21  \n16                     ipsweep                           18  \n17                      normal                           21  \n18                      normal                           21  \n19                     neptune                           18  \n\n[20 rows x 36 columns]",
            "text/html": "<div>\n<style scoped>\n    .dataframe tbody tr th:only-of-type {\n        vertical-align: middle;\n    }\n\n    .dataframe tbody tr th {\n        vertical-align: top;\n    }\n\n    .dataframe thead th {\n        text-align: right;\n    }\n</style>\n<table border=\"1\" class=\"dataframe\">\n  <thead>\n    <tr style=\"text-align: right;\">\n      <th></th>\n      <th>train_duration</th>\n      <th>train_protocol_type</th>\n      <th>train_service</th>\n      <th>train_flag</th>\n      <th>src_bytes</th>\n      <th>dst_bytes</th>\n      <th>land</th>\n      <th>hot</th>\n      <th>logged_in</th>\n      <th>num_compromised</th>\n      <th>...</th>\n      <th>dst_host_count</th>\n      <th>dst_host_srv_count</th>\n      <th>dst_host_same_srv_rate</th>\n      <th>dst_host_diff_srv_rate</th>\n      <th>dst_host_same_src_port_rate</th>\n      <th>dst_host_srv_diff_host_rate</th>\n      <th>dst_host_serror_rate</th>\n      <th>dst_host_srv_serror_rate</th>\n      <th>train_dst_host_rerror_rate</th>\n      <th>dst_bushost_srv_rerror_rate</th>\n    </tr>\n  </thead>\n  <tbody>\n    <tr>\n      <th>0</th>\n      <td>0</td>\n      <td>1</td>\n      <td>other</td>\n      <td>SF</td>\n      <td>146</td>\n      <td>0</td>\n      <td>0</td>\n      <td>0</td>\n      <td>0</td>\n      <td>0</td>\n      <td>...</td>\n      <td>0.00</td>\n      <td>0.60</td>\n      <td>0.88</td>\n      <td>0.00</td>\n      <td>0.00</td>\n      <td>0.00</td>\n      <td>0.00</td>\n      <td>0.00</td>\n      <td>normal</td>\n      <td>15</td>\n    </tr>\n    <tr>\n      <th>1</th>\n      <td>0</td>\n      <td>0</td>\n      <td>private</td>\n      <td>S0</td>\n      <td>0</td>\n      <td>0</td>\n      <td>0</td>\n      <td>0</td>\n      <td>0</td>\n      <td>0</td>\n      <td>...</td>\n      <td>0.10</td>\n      <td>0.05</td>\n      <td>0.00</td>\n      <td>0.00</td>\n      <td>1.00</td>\n      <td>1.00</td>\n      <td>0.00</td>\n      <td>0.00</td>\n      <td>neptune</td>\n      <td>19</td>\n    </tr>\n    <tr>\n      <th>2</th>\n      <td>0</td>\n      <td>0</td>\n      <td>http</td>\n      <td>SF</td>\n      <td>232</td>\n      <td>8153</td>\n      <td>0</td>\n      <td>0</td>\n      <td>1</td>\n      <td>0</td>\n      <td>...</td>\n      <td>1.00</td>\n      <td>0.00</td>\n      <td>0.03</td>\n      <td>0.04</td>\n      <td>0.03</td>\n      <td>0.01</td>\n      <td>0.00</td>\n      <td>0.01</td>\n      <td>normal</td>\n      <td>21</td>\n    </tr>\n    <tr>\n      <th>3</th>\n      <td>0</td>\n      <td>0</td>\n      <td>http</td>\n      <td>SF</td>\n      <td>199</td>\n      <td>420</td>\n      <td>0</td>\n      <td>0</td>\n      <td>1</td>\n      <td>0</td>\n      <td>...</td>\n      <td>1.00</td>\n      <td>0.00</td>\n      <td>0.00</td>\n      <td>0.00</td>\n      <td>0.00</td>\n      <td>0.00</td>\n      <td>0.00</td>\n      <td>0.00</td>\n      <td>normal</td>\n      <td>21</td>\n    </tr>\n    <tr>\n      <th>4</th>\n      <td>0</td>\n      <td>0</td>\n      <td>private</td>\n      <td>REJ</td>\n      <td>0</td>\n      <td>0</td>\n      <td>0</td>\n      <td>0</td>\n      <td>0</td>\n      <td>0</td>\n      <td>...</td>\n      <td>0.07</td>\n      <td>0.07</td>\n      <td>0.00</td>\n      <td>0.00</td>\n      <td>0.00</td>\n      <td>0.00</td>\n      <td>1.00</td>\n      <td>1.00</td>\n      <td>neptune</td>\n      <td>21</td>\n    </tr>\n    <tr>\n      <th>5</th>\n      <td>0</td>\n      <td>0</td>\n      <td>private</td>\n      <td>S0</td>\n      <td>0</td>\n      <td>0</td>\n      <td>0</td>\n      <td>0</td>\n      <td>0</td>\n      <td>0</td>\n      <td>...</td>\n      <td>0.04</td>\n      <td>0.05</td>\n      <td>0.00</td>\n      <td>0.00</td>\n      <td>1.00</td>\n      <td>1.00</td>\n      <td>0.00</td>\n      <td>0.00</td>\n      <td>neptune</td>\n      <td>21</td>\n    </tr>\n    <tr>\n      <th>6</th>\n      <td>0</td>\n      <td>0</td>\n      <td>private</td>\n      <td>S0</td>\n      <td>0</td>\n      <td>0</td>\n      <td>0</td>\n      <td>0</td>\n      <td>0</td>\n      <td>0</td>\n      <td>...</td>\n      <td>0.06</td>\n      <td>0.07</td>\n      <td>0.00</td>\n      <td>0.00</td>\n      <td>1.00</td>\n      <td>1.00</td>\n      <td>0.00</td>\n      <td>0.00</td>\n      <td>neptune</td>\n      <td>21</td>\n    </tr>\n    <tr>\n      <th>7</th>\n      <td>0</td>\n      <td>0</td>\n      <td>remote_job</td>\n      <td>S0</td>\n      <td>0</td>\n      <td>0</td>\n      <td>0</td>\n      <td>0</td>\n      <td>0</td>\n      <td>0</td>\n      <td>...</td>\n      <td>0.09</td>\n      <td>0.05</td>\n      <td>0.00</td>\n      <td>0.00</td>\n      <td>1.00</td>\n      <td>1.00</td>\n      <td>0.00</td>\n      <td>0.00</td>\n      <td>neptune</td>\n      <td>21</td>\n    </tr>\n    <tr>\n      <th>8</th>\n      <td>0</td>\n      <td>0</td>\n      <td>private</td>\n      <td>S0</td>\n      <td>0</td>\n      <td>0</td>\n      <td>0</td>\n      <td>0</td>\n      <td>0</td>\n      <td>0</td>\n      <td>...</td>\n      <td>0.05</td>\n      <td>0.06</td>\n      <td>0.00</td>\n      <td>0.00</td>\n      <td>1.00</td>\n      <td>1.00</td>\n      <td>0.00</td>\n      <td>0.00</td>\n      <td>neptune</td>\n      <td>21</td>\n    </tr>\n    <tr>\n      <th>9</th>\n      <td>0</td>\n      <td>0</td>\n      <td>private</td>\n      <td>REJ</td>\n      <td>0</td>\n      <td>0</td>\n      <td>0</td>\n      <td>0</td>\n      <td>0</td>\n      <td>0</td>\n      <td>...</td>\n      <td>0.05</td>\n      <td>0.07</td>\n      <td>0.00</td>\n      <td>0.00</td>\n      <td>0.00</td>\n      <td>0.00</td>\n      <td>1.00</td>\n      <td>1.00</td>\n      <td>neptune</td>\n      <td>21</td>\n    </tr>\n    <tr>\n      <th>10</th>\n      <td>0</td>\n      <td>0</td>\n      <td>private</td>\n      <td>S0</td>\n      <td>0</td>\n      <td>0</td>\n      <td>0</td>\n      <td>0</td>\n      <td>0</td>\n      <td>0</td>\n      <td>...</td>\n      <td>0.05</td>\n      <td>0.07</td>\n      <td>0.00</td>\n      <td>0.00</td>\n      <td>1.00</td>\n      <td>1.00</td>\n      <td>0.00</td>\n      <td>0.00</td>\n      <td>neptune</td>\n      <td>21</td>\n    </tr>\n    <tr>\n      <th>11</th>\n      <td>0</td>\n      <td>0</td>\n      <td>http</td>\n      <td>SF</td>\n      <td>287</td>\n      <td>2251</td>\n      <td>0</td>\n      <td>0</td>\n      <td>1</td>\n      <td>0</td>\n      <td>...</td>\n      <td>1.00</td>\n      <td>0.00</td>\n      <td>0.12</td>\n      <td>0.03</td>\n      <td>0.00</td>\n      <td>0.00</td>\n      <td>0.00</td>\n      <td>0.00</td>\n      <td>normal</td>\n      <td>21</td>\n    </tr>\n    <tr>\n      <th>12</th>\n      <td>0</td>\n      <td>0</td>\n      <td>ftp_data</td>\n      <td>SF</td>\n      <td>334</td>\n      <td>0</td>\n      <td>0</td>\n      <td>0</td>\n      <td>1</td>\n      <td>0</td>\n      <td>...</td>\n      <td>1.00</td>\n      <td>0.00</td>\n      <td>1.00</td>\n      <td>0.20</td>\n      <td>0.00</td>\n      <td>0.00</td>\n      <td>0.00</td>\n      <td>0.00</td>\n      <td>warezclient</td>\n      <td>15</td>\n    </tr>\n    <tr>\n      <th>13</th>\n      <td>0</td>\n      <td>0</td>\n      <td>name</td>\n      <td>S0</td>\n      <td>0</td>\n      <td>0</td>\n      <td>0</td>\n      <td>0</td>\n      <td>0</td>\n      <td>0</td>\n      <td>...</td>\n      <td>0.00</td>\n      <td>0.07</td>\n      <td>0.00</td>\n      <td>0.00</td>\n      <td>1.00</td>\n      <td>1.00</td>\n      <td>0.00</td>\n      <td>0.00</td>\n      <td>neptune</td>\n      <td>19</td>\n    </tr>\n    <tr>\n      <th>14</th>\n      <td>0</td>\n      <td>0</td>\n      <td>netbios_ns</td>\n      <td>S0</td>\n      <td>0</td>\n      <td>0</td>\n      <td>0</td>\n      <td>0</td>\n      <td>0</td>\n      <td>0</td>\n      <td>...</td>\n      <td>0.01</td>\n      <td>0.06</td>\n      <td>0.00</td>\n      <td>0.00</td>\n      <td>1.00</td>\n      <td>1.00</td>\n      <td>0.00</td>\n      <td>0.00</td>\n      <td>neptune</td>\n      <td>18</td>\n    </tr>\n    <tr>\n      <th>15</th>\n      <td>0</td>\n      <td>0</td>\n      <td>http</td>\n      <td>SF</td>\n      <td>300</td>\n      <td>13788</td>\n      <td>0</td>\n      <td>0</td>\n      <td>1</td>\n      <td>0</td>\n      <td>...</td>\n      <td>1.00</td>\n      <td>0.00</td>\n      <td>0.01</td>\n      <td>0.02</td>\n      <td>0.00</td>\n      <td>0.00</td>\n      <td>0.00</td>\n      <td>0.00</td>\n      <td>normal</td>\n      <td>21</td>\n    </tr>\n    <tr>\n      <th>16</th>\n      <td>0</td>\n      <td>2</td>\n      <td>eco_i</td>\n      <td>SF</td>\n      <td>18</td>\n      <td>0</td>\n      <td>0</td>\n      <td>0</td>\n      <td>0</td>\n      <td>0</td>\n      <td>...</td>\n      <td>1.00</td>\n      <td>0.00</td>\n      <td>1.00</td>\n      <td>1.00</td>\n      <td>0.00</td>\n      <td>0.00</td>\n      <td>0.00</td>\n      <td>0.00</td>\n      <td>ipsweep</td>\n      <td>18</td>\n    </tr>\n    <tr>\n      <th>17</th>\n      <td>0</td>\n      <td>0</td>\n      <td>http</td>\n      <td>SF</td>\n      <td>233</td>\n      <td>616</td>\n      <td>0</td>\n      <td>0</td>\n      <td>1</td>\n      <td>0</td>\n      <td>...</td>\n      <td>1.00</td>\n      <td>0.00</td>\n      <td>0.02</td>\n      <td>0.03</td>\n      <td>0.00</td>\n      <td>0.00</td>\n      <td>0.02</td>\n      <td>0.00</td>\n      <td>normal</td>\n      <td>21</td>\n    </tr>\n    <tr>\n      <th>18</th>\n      <td>0</td>\n      <td>0</td>\n      <td>http</td>\n      <td>SF</td>\n      <td>343</td>\n      <td>1178</td>\n      <td>0</td>\n      <td>0</td>\n      <td>1</td>\n      <td>0</td>\n      <td>...</td>\n      <td>1.00</td>\n      <td>0.00</td>\n      <td>0.01</td>\n      <td>0.04</td>\n      <td>0.00</td>\n      <td>0.00</td>\n      <td>0.00</td>\n      <td>0.00</td>\n      <td>normal</td>\n      <td>21</td>\n    </tr>\n    <tr>\n      <th>19</th>\n      <td>0</td>\n      <td>0</td>\n      <td>mtp</td>\n      <td>S0</td>\n      <td>0</td>\n      <td>0</td>\n      <td>0</td>\n      <td>0</td>\n      <td>0</td>\n      <td>0</td>\n      <td>...</td>\n      <td>0.09</td>\n      <td>0.05</td>\n      <td>0.00</td>\n      <td>0.00</td>\n      <td>1.00</td>\n      <td>1.00</td>\n      <td>0.00</td>\n      <td>0.00</td>\n      <td>neptune</td>\n      <td>18</td>\n    </tr>\n  </tbody>\n</table>\n<p>20 rows × 36 columns</p>\n</div>"
          },
          "metadata": {}
        }
      ],
      "execution_count": 221
    },
    {
      "cell_type": "code",
      "source": "train_replace_map = {'normal': 'normal', 'DOS': ['back', 'land', 'pod', 'neptune', 'smurf', 'teardrop'],\n                     'R2L': ['ftp_write', 'guess_passwd', 'imap', 'multihop', 'spy', 'phf', 'warezclient',\n                             'warezmaster'], 'U2R': ['buffer_overflow', 'loadmodule', 'perl', 'rootkit'],\n                     'PROBE': ['ipsweep', 'nmap', 'portsweep', 'satan']}",
      "metadata": {
        "id": "Oum5rdSGJOmv",
        "colab_type": "code",
        "colab": {},
        "trusted": true
      },
      "outputs": [],
      "execution_count": 222
    },
    {
      "cell_type": "code",
      "source": "kdd_train_format = kdd_train_clean.assign(\n    train_dst_host_rerror_rate=kdd_train_clean['train_dst_host_rerror_rate'].apply(\n        lambda x: [key for key, value in train_replace_map.items() if str(x) in value]))",
      "metadata": {
        "colab_type": "code",
        "id": "cNCwlREGMlLB",
        "colab": {},
        "trusted": true
      },
      "outputs": [],
      "execution_count": 223
    },
    {
      "cell_type": "code",
      "source": "kdd_train_format.head(20)",
      "metadata": {
        "id": "J2lZ5sOWJOnC",
        "colab_type": "code",
        "colab": {
          "base_uri": "https://localhost:8080/",
          "height": 697
        },
        "outputId": "9733b712-396e-4110-9206-f37210899a02",
        "trusted": true
      },
      "outputs": [
        {
          "execution_count": 224,
          "output_type": "execute_result",
          "data": {
            "text/plain": "    train_duration  train_protocol_type train_service train_flag  src_bytes  \\\n0                0                    1         other         SF        146   \n1                0                    0       private         S0          0   \n2                0                    0          http         SF        232   \n3                0                    0          http         SF        199   \n4                0                    0       private        REJ          0   \n5                0                    0       private         S0          0   \n6                0                    0       private         S0          0   \n7                0                    0    remote_job         S0          0   \n8                0                    0       private         S0          0   \n9                0                    0       private        REJ          0   \n10               0                    0       private         S0          0   \n11               0                    0          http         SF        287   \n12               0                    0      ftp_data         SF        334   \n13               0                    0          name         S0          0   \n14               0                    0    netbios_ns         S0          0   \n15               0                    0          http         SF        300   \n16               0                    2         eco_i         SF         18   \n17               0                    0          http         SF        233   \n18               0                    0          http         SF        343   \n19               0                    0           mtp         S0          0   \n\n    dst_bytes  land  hot  logged_in  num_compromised  ...  dst_host_count  \\\n0           0     0    0          0                0  ...            0.00   \n1           0     0    0          0                0  ...            0.10   \n2        8153     0    0          1                0  ...            1.00   \n3         420     0    0          1                0  ...            1.00   \n4           0     0    0          0                0  ...            0.07   \n5           0     0    0          0                0  ...            0.04   \n6           0     0    0          0                0  ...            0.06   \n7           0     0    0          0                0  ...            0.09   \n8           0     0    0          0                0  ...            0.05   \n9           0     0    0          0                0  ...            0.05   \n10          0     0    0          0                0  ...            0.05   \n11       2251     0    0          1                0  ...            1.00   \n12          0     0    0          1                0  ...            1.00   \n13          0     0    0          0                0  ...            0.00   \n14          0     0    0          0                0  ...            0.01   \n15      13788     0    0          1                0  ...            1.00   \n16          0     0    0          0                0  ...            1.00   \n17        616     0    0          1                0  ...            1.00   \n18       1178     0    0          1                0  ...            1.00   \n19          0     0    0          0                0  ...            0.09   \n\n    dst_host_srv_count  dst_host_same_srv_rate  dst_host_diff_srv_rate  \\\n0                 0.60                    0.88                    0.00   \n1                 0.05                    0.00                    0.00   \n2                 0.00                    0.03                    0.04   \n3                 0.00                    0.00                    0.00   \n4                 0.07                    0.00                    0.00   \n5                 0.05                    0.00                    0.00   \n6                 0.07                    0.00                    0.00   \n7                 0.05                    0.00                    0.00   \n8                 0.06                    0.00                    0.00   \n9                 0.07                    0.00                    0.00   \n10                0.07                    0.00                    0.00   \n11                0.00                    0.12                    0.03   \n12                0.00                    1.00                    0.20   \n13                0.07                    0.00                    0.00   \n14                0.06                    0.00                    0.00   \n15                0.00                    0.01                    0.02   \n16                0.00                    1.00                    1.00   \n17                0.00                    0.02                    0.03   \n18                0.00                    0.01                    0.04   \n19                0.05                    0.00                    0.00   \n\n    dst_host_same_src_port_rate  dst_host_srv_diff_host_rate  \\\n0                          0.00                         0.00   \n1                          1.00                         1.00   \n2                          0.03                         0.01   \n3                          0.00                         0.00   \n4                          0.00                         0.00   \n5                          1.00                         1.00   \n6                          1.00                         1.00   \n7                          1.00                         1.00   \n8                          1.00                         1.00   \n9                          0.00                         0.00   \n10                         1.00                         1.00   \n11                         0.00                         0.00   \n12                         0.00                         0.00   \n13                         1.00                         1.00   \n14                         1.00                         1.00   \n15                         0.00                         0.00   \n16                         0.00                         0.00   \n17                         0.00                         0.00   \n18                         0.00                         0.00   \n19                         1.00                         1.00   \n\n    dst_host_serror_rate  dst_host_srv_serror_rate  \\\n0                   0.00                      0.00   \n1                   0.00                      0.00   \n2                   0.00                      0.01   \n3                   0.00                      0.00   \n4                   1.00                      1.00   \n5                   0.00                      0.00   \n6                   0.00                      0.00   \n7                   0.00                      0.00   \n8                   0.00                      0.00   \n9                   1.00                      1.00   \n10                  0.00                      0.00   \n11                  0.00                      0.00   \n12                  0.00                      0.00   \n13                  0.00                      0.00   \n14                  0.00                      0.00   \n15                  0.00                      0.00   \n16                  0.00                      0.00   \n17                  0.02                      0.00   \n18                  0.00                      0.00   \n19                  0.00                      0.00   \n\n    train_dst_host_rerror_rate  dst_bushost_srv_rerror_rate  \n0                     [normal]                           15  \n1                        [DOS]                           19  \n2                     [normal]                           21  \n3                     [normal]                           21  \n4                        [DOS]                           21  \n5                        [DOS]                           21  \n6                        [DOS]                           21  \n7                        [DOS]                           21  \n8                        [DOS]                           21  \n9                        [DOS]                           21  \n10                       [DOS]                           21  \n11                    [normal]                           21  \n12                       [R2L]                           15  \n13                       [DOS]                           19  \n14                       [DOS]                           18  \n15                    [normal]                           21  \n16                     [PROBE]                           18  \n17                    [normal]                           21  \n18                    [normal]                           21  \n19                       [DOS]                           18  \n\n[20 rows x 36 columns]",
            "text/html": "<div>\n<style scoped>\n    .dataframe tbody tr th:only-of-type {\n        vertical-align: middle;\n    }\n\n    .dataframe tbody tr th {\n        vertical-align: top;\n    }\n\n    .dataframe thead th {\n        text-align: right;\n    }\n</style>\n<table border=\"1\" class=\"dataframe\">\n  <thead>\n    <tr style=\"text-align: right;\">\n      <th></th>\n      <th>train_duration</th>\n      <th>train_protocol_type</th>\n      <th>train_service</th>\n      <th>train_flag</th>\n      <th>src_bytes</th>\n      <th>dst_bytes</th>\n      <th>land</th>\n      <th>hot</th>\n      <th>logged_in</th>\n      <th>num_compromised</th>\n      <th>...</th>\n      <th>dst_host_count</th>\n      <th>dst_host_srv_count</th>\n      <th>dst_host_same_srv_rate</th>\n      <th>dst_host_diff_srv_rate</th>\n      <th>dst_host_same_src_port_rate</th>\n      <th>dst_host_srv_diff_host_rate</th>\n      <th>dst_host_serror_rate</th>\n      <th>dst_host_srv_serror_rate</th>\n      <th>train_dst_host_rerror_rate</th>\n      <th>dst_bushost_srv_rerror_rate</th>\n    </tr>\n  </thead>\n  <tbody>\n    <tr>\n      <th>0</th>\n      <td>0</td>\n      <td>1</td>\n      <td>other</td>\n      <td>SF</td>\n      <td>146</td>\n      <td>0</td>\n      <td>0</td>\n      <td>0</td>\n      <td>0</td>\n      <td>0</td>\n      <td>...</td>\n      <td>0.00</td>\n      <td>0.60</td>\n      <td>0.88</td>\n      <td>0.00</td>\n      <td>0.00</td>\n      <td>0.00</td>\n      <td>0.00</td>\n      <td>0.00</td>\n      <td>[normal]</td>\n      <td>15</td>\n    </tr>\n    <tr>\n      <th>1</th>\n      <td>0</td>\n      <td>0</td>\n      <td>private</td>\n      <td>S0</td>\n      <td>0</td>\n      <td>0</td>\n      <td>0</td>\n      <td>0</td>\n      <td>0</td>\n      <td>0</td>\n      <td>...</td>\n      <td>0.10</td>\n      <td>0.05</td>\n      <td>0.00</td>\n      <td>0.00</td>\n      <td>1.00</td>\n      <td>1.00</td>\n      <td>0.00</td>\n      <td>0.00</td>\n      <td>[DOS]</td>\n      <td>19</td>\n    </tr>\n    <tr>\n      <th>2</th>\n      <td>0</td>\n      <td>0</td>\n      <td>http</td>\n      <td>SF</td>\n      <td>232</td>\n      <td>8153</td>\n      <td>0</td>\n      <td>0</td>\n      <td>1</td>\n      <td>0</td>\n      <td>...</td>\n      <td>1.00</td>\n      <td>0.00</td>\n      <td>0.03</td>\n      <td>0.04</td>\n      <td>0.03</td>\n      <td>0.01</td>\n      <td>0.00</td>\n      <td>0.01</td>\n      <td>[normal]</td>\n      <td>21</td>\n    </tr>\n    <tr>\n      <th>3</th>\n      <td>0</td>\n      <td>0</td>\n      <td>http</td>\n      <td>SF</td>\n      <td>199</td>\n      <td>420</td>\n      <td>0</td>\n      <td>0</td>\n      <td>1</td>\n      <td>0</td>\n      <td>...</td>\n      <td>1.00</td>\n      <td>0.00</td>\n      <td>0.00</td>\n      <td>0.00</td>\n      <td>0.00</td>\n      <td>0.00</td>\n      <td>0.00</td>\n      <td>0.00</td>\n      <td>[normal]</td>\n      <td>21</td>\n    </tr>\n    <tr>\n      <th>4</th>\n      <td>0</td>\n      <td>0</td>\n      <td>private</td>\n      <td>REJ</td>\n      <td>0</td>\n      <td>0</td>\n      <td>0</td>\n      <td>0</td>\n      <td>0</td>\n      <td>0</td>\n      <td>...</td>\n      <td>0.07</td>\n      <td>0.07</td>\n      <td>0.00</td>\n      <td>0.00</td>\n      <td>0.00</td>\n      <td>0.00</td>\n      <td>1.00</td>\n      <td>1.00</td>\n      <td>[DOS]</td>\n      <td>21</td>\n    </tr>\n    <tr>\n      <th>5</th>\n      <td>0</td>\n      <td>0</td>\n      <td>private</td>\n      <td>S0</td>\n      <td>0</td>\n      <td>0</td>\n      <td>0</td>\n      <td>0</td>\n      <td>0</td>\n      <td>0</td>\n      <td>...</td>\n      <td>0.04</td>\n      <td>0.05</td>\n      <td>0.00</td>\n      <td>0.00</td>\n      <td>1.00</td>\n      <td>1.00</td>\n      <td>0.00</td>\n      <td>0.00</td>\n      <td>[DOS]</td>\n      <td>21</td>\n    </tr>\n    <tr>\n      <th>6</th>\n      <td>0</td>\n      <td>0</td>\n      <td>private</td>\n      <td>S0</td>\n      <td>0</td>\n      <td>0</td>\n      <td>0</td>\n      <td>0</td>\n      <td>0</td>\n      <td>0</td>\n      <td>...</td>\n      <td>0.06</td>\n      <td>0.07</td>\n      <td>0.00</td>\n      <td>0.00</td>\n      <td>1.00</td>\n      <td>1.00</td>\n      <td>0.00</td>\n      <td>0.00</td>\n      <td>[DOS]</td>\n      <td>21</td>\n    </tr>\n    <tr>\n      <th>7</th>\n      <td>0</td>\n      <td>0</td>\n      <td>remote_job</td>\n      <td>S0</td>\n      <td>0</td>\n      <td>0</td>\n      <td>0</td>\n      <td>0</td>\n      <td>0</td>\n      <td>0</td>\n      <td>...</td>\n      <td>0.09</td>\n      <td>0.05</td>\n      <td>0.00</td>\n      <td>0.00</td>\n      <td>1.00</td>\n      <td>1.00</td>\n      <td>0.00</td>\n      <td>0.00</td>\n      <td>[DOS]</td>\n      <td>21</td>\n    </tr>\n    <tr>\n      <th>8</th>\n      <td>0</td>\n      <td>0</td>\n      <td>private</td>\n      <td>S0</td>\n      <td>0</td>\n      <td>0</td>\n      <td>0</td>\n      <td>0</td>\n      <td>0</td>\n      <td>0</td>\n      <td>...</td>\n      <td>0.05</td>\n      <td>0.06</td>\n      <td>0.00</td>\n      <td>0.00</td>\n      <td>1.00</td>\n      <td>1.00</td>\n      <td>0.00</td>\n      <td>0.00</td>\n      <td>[DOS]</td>\n      <td>21</td>\n    </tr>\n    <tr>\n      <th>9</th>\n      <td>0</td>\n      <td>0</td>\n      <td>private</td>\n      <td>REJ</td>\n      <td>0</td>\n      <td>0</td>\n      <td>0</td>\n      <td>0</td>\n      <td>0</td>\n      <td>0</td>\n      <td>...</td>\n      <td>0.05</td>\n      <td>0.07</td>\n      <td>0.00</td>\n      <td>0.00</td>\n      <td>0.00</td>\n      <td>0.00</td>\n      <td>1.00</td>\n      <td>1.00</td>\n      <td>[DOS]</td>\n      <td>21</td>\n    </tr>\n    <tr>\n      <th>10</th>\n      <td>0</td>\n      <td>0</td>\n      <td>private</td>\n      <td>S0</td>\n      <td>0</td>\n      <td>0</td>\n      <td>0</td>\n      <td>0</td>\n      <td>0</td>\n      <td>0</td>\n      <td>...</td>\n      <td>0.05</td>\n      <td>0.07</td>\n      <td>0.00</td>\n      <td>0.00</td>\n      <td>1.00</td>\n      <td>1.00</td>\n      <td>0.00</td>\n      <td>0.00</td>\n      <td>[DOS]</td>\n      <td>21</td>\n    </tr>\n    <tr>\n      <th>11</th>\n      <td>0</td>\n      <td>0</td>\n      <td>http</td>\n      <td>SF</td>\n      <td>287</td>\n      <td>2251</td>\n      <td>0</td>\n      <td>0</td>\n      <td>1</td>\n      <td>0</td>\n      <td>...</td>\n      <td>1.00</td>\n      <td>0.00</td>\n      <td>0.12</td>\n      <td>0.03</td>\n      <td>0.00</td>\n      <td>0.00</td>\n      <td>0.00</td>\n      <td>0.00</td>\n      <td>[normal]</td>\n      <td>21</td>\n    </tr>\n    <tr>\n      <th>12</th>\n      <td>0</td>\n      <td>0</td>\n      <td>ftp_data</td>\n      <td>SF</td>\n      <td>334</td>\n      <td>0</td>\n      <td>0</td>\n      <td>0</td>\n      <td>1</td>\n      <td>0</td>\n      <td>...</td>\n      <td>1.00</td>\n      <td>0.00</td>\n      <td>1.00</td>\n      <td>0.20</td>\n      <td>0.00</td>\n      <td>0.00</td>\n      <td>0.00</td>\n      <td>0.00</td>\n      <td>[R2L]</td>\n      <td>15</td>\n    </tr>\n    <tr>\n      <th>13</th>\n      <td>0</td>\n      <td>0</td>\n      <td>name</td>\n      <td>S0</td>\n      <td>0</td>\n      <td>0</td>\n      <td>0</td>\n      <td>0</td>\n      <td>0</td>\n      <td>0</td>\n      <td>...</td>\n      <td>0.00</td>\n      <td>0.07</td>\n      <td>0.00</td>\n      <td>0.00</td>\n      <td>1.00</td>\n      <td>1.00</td>\n      <td>0.00</td>\n      <td>0.00</td>\n      <td>[DOS]</td>\n      <td>19</td>\n    </tr>\n    <tr>\n      <th>14</th>\n      <td>0</td>\n      <td>0</td>\n      <td>netbios_ns</td>\n      <td>S0</td>\n      <td>0</td>\n      <td>0</td>\n      <td>0</td>\n      <td>0</td>\n      <td>0</td>\n      <td>0</td>\n      <td>...</td>\n      <td>0.01</td>\n      <td>0.06</td>\n      <td>0.00</td>\n      <td>0.00</td>\n      <td>1.00</td>\n      <td>1.00</td>\n      <td>0.00</td>\n      <td>0.00</td>\n      <td>[DOS]</td>\n      <td>18</td>\n    </tr>\n    <tr>\n      <th>15</th>\n      <td>0</td>\n      <td>0</td>\n      <td>http</td>\n      <td>SF</td>\n      <td>300</td>\n      <td>13788</td>\n      <td>0</td>\n      <td>0</td>\n      <td>1</td>\n      <td>0</td>\n      <td>...</td>\n      <td>1.00</td>\n      <td>0.00</td>\n      <td>0.01</td>\n      <td>0.02</td>\n      <td>0.00</td>\n      <td>0.00</td>\n      <td>0.00</td>\n      <td>0.00</td>\n      <td>[normal]</td>\n      <td>21</td>\n    </tr>\n    <tr>\n      <th>16</th>\n      <td>0</td>\n      <td>2</td>\n      <td>eco_i</td>\n      <td>SF</td>\n      <td>18</td>\n      <td>0</td>\n      <td>0</td>\n      <td>0</td>\n      <td>0</td>\n      <td>0</td>\n      <td>...</td>\n      <td>1.00</td>\n      <td>0.00</td>\n      <td>1.00</td>\n      <td>1.00</td>\n      <td>0.00</td>\n      <td>0.00</td>\n      <td>0.00</td>\n      <td>0.00</td>\n      <td>[PROBE]</td>\n      <td>18</td>\n    </tr>\n    <tr>\n      <th>17</th>\n      <td>0</td>\n      <td>0</td>\n      <td>http</td>\n      <td>SF</td>\n      <td>233</td>\n      <td>616</td>\n      <td>0</td>\n      <td>0</td>\n      <td>1</td>\n      <td>0</td>\n      <td>...</td>\n      <td>1.00</td>\n      <td>0.00</td>\n      <td>0.02</td>\n      <td>0.03</td>\n      <td>0.00</td>\n      <td>0.00</td>\n      <td>0.02</td>\n      <td>0.00</td>\n      <td>[normal]</td>\n      <td>21</td>\n    </tr>\n    <tr>\n      <th>18</th>\n      <td>0</td>\n      <td>0</td>\n      <td>http</td>\n      <td>SF</td>\n      <td>343</td>\n      <td>1178</td>\n      <td>0</td>\n      <td>0</td>\n      <td>1</td>\n      <td>0</td>\n      <td>...</td>\n      <td>1.00</td>\n      <td>0.00</td>\n      <td>0.01</td>\n      <td>0.04</td>\n      <td>0.00</td>\n      <td>0.00</td>\n      <td>0.00</td>\n      <td>0.00</td>\n      <td>[normal]</td>\n      <td>21</td>\n    </tr>\n    <tr>\n      <th>19</th>\n      <td>0</td>\n      <td>0</td>\n      <td>mtp</td>\n      <td>S0</td>\n      <td>0</td>\n      <td>0</td>\n      <td>0</td>\n      <td>0</td>\n      <td>0</td>\n      <td>0</td>\n      <td>...</td>\n      <td>0.09</td>\n      <td>0.05</td>\n      <td>0.00</td>\n      <td>0.00</td>\n      <td>1.00</td>\n      <td>1.00</td>\n      <td>0.00</td>\n      <td>0.00</td>\n      <td>[DOS]</td>\n      <td>18</td>\n    </tr>\n  </tbody>\n</table>\n<p>20 rows × 36 columns</p>\n</div>"
          },
          "metadata": {}
        }
      ],
      "execution_count": 224
    },
    {
      "cell_type": "code",
      "source": "train_service = {'aol': 1, 'auth': 2, 'bgp': 3, 'courier': 4, 'csnet_ns': 5, 'ctf': 6, 'daytime': 7, 'discard': 8,\n                 'domain': 9, 'domain_u': 10, 'echo': 11, 'eco_i': 12, 'ecr_i': 13, 'efs': 14, 'exec': 15,\n                 'finger': 16, 'ftp': 17, 'ftp_data': 18, 'gopher': 19, 'harvest': 20, 'hostnames': 21, 'http': 22,\n                 'http_2784': 23, 'http_443': 24, 'http_8001': 25, 'imap4': 26, 'IRC': 27, 'iso_tsap': 28,\n                 'klogin': 29, 'kshell': 30, 'ldap': 31, 'link': 32, 'login': 33, 'mtp': 34, 'name': 35,\n                 'netbios_dgm': 36, 'netbios_ns': 37, 'netbios_ssn': 38, 'netstat': 39, 'nnsp': 40, 'nntp': 41,\n                 'ntp_u': 42, 'other': 43, 'pm_dump': 44, 'pop_2': 45, 'pop_3': 46, 'printer': 47, 'private': 48,\n                 'red_i': 49, 'remote_job': 50, 'rje': 51, 'shell': 52, 'smtp': 53, 'sql_net': 54, 'ssh': 55,\n                 'sunrpc': 56, 'supdup': 57, 'systat': 58, 'telnet': 59, 'tftp_u': 60, 'tim_i': 61, 'time': 62,\n                 'urh_i': 63, 'urp_i': 64, 'uucp': 65, 'uucp_path': 66, 'vmnet': 67, 'whois': 68, 'X11': 69,\n                 'Z39_50': 70}",
      "metadata": {
        "id": "CTwhxs22JOnM",
        "colab_type": "code",
        "colab": {},
        "trusted": true
      },
      "outputs": [],
      "execution_count": 225
    },
    {
      "cell_type": "code",
      "source": "train_service.items()",
      "metadata": {
        "id": "GZz0WgJzJOnV",
        "colab_type": "code",
        "colab": {
          "base_uri": "https://localhost:8080/",
          "height": 54
        },
        "outputId": "6e763c64-9be0-4416-ab7a-ff68eed4c771",
        "trusted": true
      },
      "outputs": [
        {
          "execution_count": 226,
          "output_type": "execute_result",
          "data": {
            "text/plain": "dict_items([('aol', 1), ('auth', 2), ('bgp', 3), ('courier', 4), ('csnet_ns', 5), ('ctf', 6), ('daytime', 7), ('discard', 8), ('domain', 9), ('domain_u', 10), ('echo', 11), ('eco_i', 12), ('ecr_i', 13), ('efs', 14), ('exec', 15), ('finger', 16), ('ftp', 17), ('ftp_data', 18), ('gopher', 19), ('harvest', 20), ('hostnames', 21), ('http', 22), ('http_2784', 23), ('http_443', 24), ('http_8001', 25), ('imap4', 26), ('IRC', 27), ('iso_tsap', 28), ('klogin', 29), ('kshell', 30), ('ldap', 31), ('link', 32), ('login', 33), ('mtp', 34), ('name', 35), ('netbios_dgm', 36), ('netbios_ns', 37), ('netbios_ssn', 38), ('netstat', 39), ('nnsp', 40), ('nntp', 41), ('ntp_u', 42), ('other', 43), ('pm_dump', 44), ('pop_2', 45), ('pop_3', 46), ('printer', 47), ('private', 48), ('red_i', 49), ('remote_job', 50), ('rje', 51), ('shell', 52), ('smtp', 53), ('sql_net', 54), ('ssh', 55), ('sunrpc', 56), ('supdup', 57), ('systat', 58), ('telnet', 59), ('tftp_u', 60), ('tim_i', 61), ('time', 62), ('urh_i', 63), ('urp_i', 64), ('uucp', 65), ('uucp_path', 66), ('vmnet', 67), ('whois', 68), ('X11', 69), ('Z39_50', 70)])"
          },
          "metadata": {}
        }
      ],
      "execution_count": 226
    },
    {
      "cell_type": "code",
      "source": "kdd_train_format.train_service = [train_service[item] for item in kdd_train_format.train_service]",
      "metadata": {
        "id": "JQ6XUKB7JOnh",
        "colab_type": "code",
        "colab": {},
        "trusted": true
      },
      "outputs": [],
      "execution_count": 227
    },
    {
      "cell_type": "code",
      "source": "kdd_train_format.head(20)\n",
      "metadata": {
        "id": "x-QQRjRJJOnq",
        "colab_type": "code",
        "colab": {
          "base_uri": "https://localhost:8080/",
          "height": 697
        },
        "outputId": "d618f71a-42cf-4847-f5f5-5643aaac29e7",
        "trusted": true
      },
      "outputs": [
        {
          "execution_count": 228,
          "output_type": "execute_result",
          "data": {
            "text/plain": "    train_duration  train_protocol_type  train_service train_flag  src_bytes  \\\n0                0                    1             43         SF        146   \n1                0                    0             48         S0          0   \n2                0                    0             22         SF        232   \n3                0                    0             22         SF        199   \n4                0                    0             48        REJ          0   \n5                0                    0             48         S0          0   \n6                0                    0             48         S0          0   \n7                0                    0             50         S0          0   \n8                0                    0             48         S0          0   \n9                0                    0             48        REJ          0   \n10               0                    0             48         S0          0   \n11               0                    0             22         SF        287   \n12               0                    0             18         SF        334   \n13               0                    0             35         S0          0   \n14               0                    0             37         S0          0   \n15               0                    0             22         SF        300   \n16               0                    2             12         SF         18   \n17               0                    0             22         SF        233   \n18               0                    0             22         SF        343   \n19               0                    0             34         S0          0   \n\n    dst_bytes  land  hot  logged_in  num_compromised  ...  dst_host_count  \\\n0           0     0    0          0                0  ...            0.00   \n1           0     0    0          0                0  ...            0.10   \n2        8153     0    0          1                0  ...            1.00   \n3         420     0    0          1                0  ...            1.00   \n4           0     0    0          0                0  ...            0.07   \n5           0     0    0          0                0  ...            0.04   \n6           0     0    0          0                0  ...            0.06   \n7           0     0    0          0                0  ...            0.09   \n8           0     0    0          0                0  ...            0.05   \n9           0     0    0          0                0  ...            0.05   \n10          0     0    0          0                0  ...            0.05   \n11       2251     0    0          1                0  ...            1.00   \n12          0     0    0          1                0  ...            1.00   \n13          0     0    0          0                0  ...            0.00   \n14          0     0    0          0                0  ...            0.01   \n15      13788     0    0          1                0  ...            1.00   \n16          0     0    0          0                0  ...            1.00   \n17        616     0    0          1                0  ...            1.00   \n18       1178     0    0          1                0  ...            1.00   \n19          0     0    0          0                0  ...            0.09   \n\n    dst_host_srv_count  dst_host_same_srv_rate  dst_host_diff_srv_rate  \\\n0                 0.60                    0.88                    0.00   \n1                 0.05                    0.00                    0.00   \n2                 0.00                    0.03                    0.04   \n3                 0.00                    0.00                    0.00   \n4                 0.07                    0.00                    0.00   \n5                 0.05                    0.00                    0.00   \n6                 0.07                    0.00                    0.00   \n7                 0.05                    0.00                    0.00   \n8                 0.06                    0.00                    0.00   \n9                 0.07                    0.00                    0.00   \n10                0.07                    0.00                    0.00   \n11                0.00                    0.12                    0.03   \n12                0.00                    1.00                    0.20   \n13                0.07                    0.00                    0.00   \n14                0.06                    0.00                    0.00   \n15                0.00                    0.01                    0.02   \n16                0.00                    1.00                    1.00   \n17                0.00                    0.02                    0.03   \n18                0.00                    0.01                    0.04   \n19                0.05                    0.00                    0.00   \n\n    dst_host_same_src_port_rate  dst_host_srv_diff_host_rate  \\\n0                          0.00                         0.00   \n1                          1.00                         1.00   \n2                          0.03                         0.01   \n3                          0.00                         0.00   \n4                          0.00                         0.00   \n5                          1.00                         1.00   \n6                          1.00                         1.00   \n7                          1.00                         1.00   \n8                          1.00                         1.00   \n9                          0.00                         0.00   \n10                         1.00                         1.00   \n11                         0.00                         0.00   \n12                         0.00                         0.00   \n13                         1.00                         1.00   \n14                         1.00                         1.00   \n15                         0.00                         0.00   \n16                         0.00                         0.00   \n17                         0.00                         0.00   \n18                         0.00                         0.00   \n19                         1.00                         1.00   \n\n    dst_host_serror_rate  dst_host_srv_serror_rate  \\\n0                   0.00                      0.00   \n1                   0.00                      0.00   \n2                   0.00                      0.01   \n3                   0.00                      0.00   \n4                   1.00                      1.00   \n5                   0.00                      0.00   \n6                   0.00                      0.00   \n7                   0.00                      0.00   \n8                   0.00                      0.00   \n9                   1.00                      1.00   \n10                  0.00                      0.00   \n11                  0.00                      0.00   \n12                  0.00                      0.00   \n13                  0.00                      0.00   \n14                  0.00                      0.00   \n15                  0.00                      0.00   \n16                  0.00                      0.00   \n17                  0.02                      0.00   \n18                  0.00                      0.00   \n19                  0.00                      0.00   \n\n    train_dst_host_rerror_rate  dst_bushost_srv_rerror_rate  \n0                     [normal]                           15  \n1                        [DOS]                           19  \n2                     [normal]                           21  \n3                     [normal]                           21  \n4                        [DOS]                           21  \n5                        [DOS]                           21  \n6                        [DOS]                           21  \n7                        [DOS]                           21  \n8                        [DOS]                           21  \n9                        [DOS]                           21  \n10                       [DOS]                           21  \n11                    [normal]                           21  \n12                       [R2L]                           15  \n13                       [DOS]                           19  \n14                       [DOS]                           18  \n15                    [normal]                           21  \n16                     [PROBE]                           18  \n17                    [normal]                           21  \n18                    [normal]                           21  \n19                       [DOS]                           18  \n\n[20 rows x 36 columns]",
            "text/html": "<div>\n<style scoped>\n    .dataframe tbody tr th:only-of-type {\n        vertical-align: middle;\n    }\n\n    .dataframe tbody tr th {\n        vertical-align: top;\n    }\n\n    .dataframe thead th {\n        text-align: right;\n    }\n</style>\n<table border=\"1\" class=\"dataframe\">\n  <thead>\n    <tr style=\"text-align: right;\">\n      <th></th>\n      <th>train_duration</th>\n      <th>train_protocol_type</th>\n      <th>train_service</th>\n      <th>train_flag</th>\n      <th>src_bytes</th>\n      <th>dst_bytes</th>\n      <th>land</th>\n      <th>hot</th>\n      <th>logged_in</th>\n      <th>num_compromised</th>\n      <th>...</th>\n      <th>dst_host_count</th>\n      <th>dst_host_srv_count</th>\n      <th>dst_host_same_srv_rate</th>\n      <th>dst_host_diff_srv_rate</th>\n      <th>dst_host_same_src_port_rate</th>\n      <th>dst_host_srv_diff_host_rate</th>\n      <th>dst_host_serror_rate</th>\n      <th>dst_host_srv_serror_rate</th>\n      <th>train_dst_host_rerror_rate</th>\n      <th>dst_bushost_srv_rerror_rate</th>\n    </tr>\n  </thead>\n  <tbody>\n    <tr>\n      <th>0</th>\n      <td>0</td>\n      <td>1</td>\n      <td>43</td>\n      <td>SF</td>\n      <td>146</td>\n      <td>0</td>\n      <td>0</td>\n      <td>0</td>\n      <td>0</td>\n      <td>0</td>\n      <td>...</td>\n      <td>0.00</td>\n      <td>0.60</td>\n      <td>0.88</td>\n      <td>0.00</td>\n      <td>0.00</td>\n      <td>0.00</td>\n      <td>0.00</td>\n      <td>0.00</td>\n      <td>[normal]</td>\n      <td>15</td>\n    </tr>\n    <tr>\n      <th>1</th>\n      <td>0</td>\n      <td>0</td>\n      <td>48</td>\n      <td>S0</td>\n      <td>0</td>\n      <td>0</td>\n      <td>0</td>\n      <td>0</td>\n      <td>0</td>\n      <td>0</td>\n      <td>...</td>\n      <td>0.10</td>\n      <td>0.05</td>\n      <td>0.00</td>\n      <td>0.00</td>\n      <td>1.00</td>\n      <td>1.00</td>\n      <td>0.00</td>\n      <td>0.00</td>\n      <td>[DOS]</td>\n      <td>19</td>\n    </tr>\n    <tr>\n      <th>2</th>\n      <td>0</td>\n      <td>0</td>\n      <td>22</td>\n      <td>SF</td>\n      <td>232</td>\n      <td>8153</td>\n      <td>0</td>\n      <td>0</td>\n      <td>1</td>\n      <td>0</td>\n      <td>...</td>\n      <td>1.00</td>\n      <td>0.00</td>\n      <td>0.03</td>\n      <td>0.04</td>\n      <td>0.03</td>\n      <td>0.01</td>\n      <td>0.00</td>\n      <td>0.01</td>\n      <td>[normal]</td>\n      <td>21</td>\n    </tr>\n    <tr>\n      <th>3</th>\n      <td>0</td>\n      <td>0</td>\n      <td>22</td>\n      <td>SF</td>\n      <td>199</td>\n      <td>420</td>\n      <td>0</td>\n      <td>0</td>\n      <td>1</td>\n      <td>0</td>\n      <td>...</td>\n      <td>1.00</td>\n      <td>0.00</td>\n      <td>0.00</td>\n      <td>0.00</td>\n      <td>0.00</td>\n      <td>0.00</td>\n      <td>0.00</td>\n      <td>0.00</td>\n      <td>[normal]</td>\n      <td>21</td>\n    </tr>\n    <tr>\n      <th>4</th>\n      <td>0</td>\n      <td>0</td>\n      <td>48</td>\n      <td>REJ</td>\n      <td>0</td>\n      <td>0</td>\n      <td>0</td>\n      <td>0</td>\n      <td>0</td>\n      <td>0</td>\n      <td>...</td>\n      <td>0.07</td>\n      <td>0.07</td>\n      <td>0.00</td>\n      <td>0.00</td>\n      <td>0.00</td>\n      <td>0.00</td>\n      <td>1.00</td>\n      <td>1.00</td>\n      <td>[DOS]</td>\n      <td>21</td>\n    </tr>\n    <tr>\n      <th>5</th>\n      <td>0</td>\n      <td>0</td>\n      <td>48</td>\n      <td>S0</td>\n      <td>0</td>\n      <td>0</td>\n      <td>0</td>\n      <td>0</td>\n      <td>0</td>\n      <td>0</td>\n      <td>...</td>\n      <td>0.04</td>\n      <td>0.05</td>\n      <td>0.00</td>\n      <td>0.00</td>\n      <td>1.00</td>\n      <td>1.00</td>\n      <td>0.00</td>\n      <td>0.00</td>\n      <td>[DOS]</td>\n      <td>21</td>\n    </tr>\n    <tr>\n      <th>6</th>\n      <td>0</td>\n      <td>0</td>\n      <td>48</td>\n      <td>S0</td>\n      <td>0</td>\n      <td>0</td>\n      <td>0</td>\n      <td>0</td>\n      <td>0</td>\n      <td>0</td>\n      <td>...</td>\n      <td>0.06</td>\n      <td>0.07</td>\n      <td>0.00</td>\n      <td>0.00</td>\n      <td>1.00</td>\n      <td>1.00</td>\n      <td>0.00</td>\n      <td>0.00</td>\n      <td>[DOS]</td>\n      <td>21</td>\n    </tr>\n    <tr>\n      <th>7</th>\n      <td>0</td>\n      <td>0</td>\n      <td>50</td>\n      <td>S0</td>\n      <td>0</td>\n      <td>0</td>\n      <td>0</td>\n      <td>0</td>\n      <td>0</td>\n      <td>0</td>\n      <td>...</td>\n      <td>0.09</td>\n      <td>0.05</td>\n      <td>0.00</td>\n      <td>0.00</td>\n      <td>1.00</td>\n      <td>1.00</td>\n      <td>0.00</td>\n      <td>0.00</td>\n      <td>[DOS]</td>\n      <td>21</td>\n    </tr>\n    <tr>\n      <th>8</th>\n      <td>0</td>\n      <td>0</td>\n      <td>48</td>\n      <td>S0</td>\n      <td>0</td>\n      <td>0</td>\n      <td>0</td>\n      <td>0</td>\n      <td>0</td>\n      <td>0</td>\n      <td>...</td>\n      <td>0.05</td>\n      <td>0.06</td>\n      <td>0.00</td>\n      <td>0.00</td>\n      <td>1.00</td>\n      <td>1.00</td>\n      <td>0.00</td>\n      <td>0.00</td>\n      <td>[DOS]</td>\n      <td>21</td>\n    </tr>\n    <tr>\n      <th>9</th>\n      <td>0</td>\n      <td>0</td>\n      <td>48</td>\n      <td>REJ</td>\n      <td>0</td>\n      <td>0</td>\n      <td>0</td>\n      <td>0</td>\n      <td>0</td>\n      <td>0</td>\n      <td>...</td>\n      <td>0.05</td>\n      <td>0.07</td>\n      <td>0.00</td>\n      <td>0.00</td>\n      <td>0.00</td>\n      <td>0.00</td>\n      <td>1.00</td>\n      <td>1.00</td>\n      <td>[DOS]</td>\n      <td>21</td>\n    </tr>\n    <tr>\n      <th>10</th>\n      <td>0</td>\n      <td>0</td>\n      <td>48</td>\n      <td>S0</td>\n      <td>0</td>\n      <td>0</td>\n      <td>0</td>\n      <td>0</td>\n      <td>0</td>\n      <td>0</td>\n      <td>...</td>\n      <td>0.05</td>\n      <td>0.07</td>\n      <td>0.00</td>\n      <td>0.00</td>\n      <td>1.00</td>\n      <td>1.00</td>\n      <td>0.00</td>\n      <td>0.00</td>\n      <td>[DOS]</td>\n      <td>21</td>\n    </tr>\n    <tr>\n      <th>11</th>\n      <td>0</td>\n      <td>0</td>\n      <td>22</td>\n      <td>SF</td>\n      <td>287</td>\n      <td>2251</td>\n      <td>0</td>\n      <td>0</td>\n      <td>1</td>\n      <td>0</td>\n      <td>...</td>\n      <td>1.00</td>\n      <td>0.00</td>\n      <td>0.12</td>\n      <td>0.03</td>\n      <td>0.00</td>\n      <td>0.00</td>\n      <td>0.00</td>\n      <td>0.00</td>\n      <td>[normal]</td>\n      <td>21</td>\n    </tr>\n    <tr>\n      <th>12</th>\n      <td>0</td>\n      <td>0</td>\n      <td>18</td>\n      <td>SF</td>\n      <td>334</td>\n      <td>0</td>\n      <td>0</td>\n      <td>0</td>\n      <td>1</td>\n      <td>0</td>\n      <td>...</td>\n      <td>1.00</td>\n      <td>0.00</td>\n      <td>1.00</td>\n      <td>0.20</td>\n      <td>0.00</td>\n      <td>0.00</td>\n      <td>0.00</td>\n      <td>0.00</td>\n      <td>[R2L]</td>\n      <td>15</td>\n    </tr>\n    <tr>\n      <th>13</th>\n      <td>0</td>\n      <td>0</td>\n      <td>35</td>\n      <td>S0</td>\n      <td>0</td>\n      <td>0</td>\n      <td>0</td>\n      <td>0</td>\n      <td>0</td>\n      <td>0</td>\n      <td>...</td>\n      <td>0.00</td>\n      <td>0.07</td>\n      <td>0.00</td>\n      <td>0.00</td>\n      <td>1.00</td>\n      <td>1.00</td>\n      <td>0.00</td>\n      <td>0.00</td>\n      <td>[DOS]</td>\n      <td>19</td>\n    </tr>\n    <tr>\n      <th>14</th>\n      <td>0</td>\n      <td>0</td>\n      <td>37</td>\n      <td>S0</td>\n      <td>0</td>\n      <td>0</td>\n      <td>0</td>\n      <td>0</td>\n      <td>0</td>\n      <td>0</td>\n      <td>...</td>\n      <td>0.01</td>\n      <td>0.06</td>\n      <td>0.00</td>\n      <td>0.00</td>\n      <td>1.00</td>\n      <td>1.00</td>\n      <td>0.00</td>\n      <td>0.00</td>\n      <td>[DOS]</td>\n      <td>18</td>\n    </tr>\n    <tr>\n      <th>15</th>\n      <td>0</td>\n      <td>0</td>\n      <td>22</td>\n      <td>SF</td>\n      <td>300</td>\n      <td>13788</td>\n      <td>0</td>\n      <td>0</td>\n      <td>1</td>\n      <td>0</td>\n      <td>...</td>\n      <td>1.00</td>\n      <td>0.00</td>\n      <td>0.01</td>\n      <td>0.02</td>\n      <td>0.00</td>\n      <td>0.00</td>\n      <td>0.00</td>\n      <td>0.00</td>\n      <td>[normal]</td>\n      <td>21</td>\n    </tr>\n    <tr>\n      <th>16</th>\n      <td>0</td>\n      <td>2</td>\n      <td>12</td>\n      <td>SF</td>\n      <td>18</td>\n      <td>0</td>\n      <td>0</td>\n      <td>0</td>\n      <td>0</td>\n      <td>0</td>\n      <td>...</td>\n      <td>1.00</td>\n      <td>0.00</td>\n      <td>1.00</td>\n      <td>1.00</td>\n      <td>0.00</td>\n      <td>0.00</td>\n      <td>0.00</td>\n      <td>0.00</td>\n      <td>[PROBE]</td>\n      <td>18</td>\n    </tr>\n    <tr>\n      <th>17</th>\n      <td>0</td>\n      <td>0</td>\n      <td>22</td>\n      <td>SF</td>\n      <td>233</td>\n      <td>616</td>\n      <td>0</td>\n      <td>0</td>\n      <td>1</td>\n      <td>0</td>\n      <td>...</td>\n      <td>1.00</td>\n      <td>0.00</td>\n      <td>0.02</td>\n      <td>0.03</td>\n      <td>0.00</td>\n      <td>0.00</td>\n      <td>0.02</td>\n      <td>0.00</td>\n      <td>[normal]</td>\n      <td>21</td>\n    </tr>\n    <tr>\n      <th>18</th>\n      <td>0</td>\n      <td>0</td>\n      <td>22</td>\n      <td>SF</td>\n      <td>343</td>\n      <td>1178</td>\n      <td>0</td>\n      <td>0</td>\n      <td>1</td>\n      <td>0</td>\n      <td>...</td>\n      <td>1.00</td>\n      <td>0.00</td>\n      <td>0.01</td>\n      <td>0.04</td>\n      <td>0.00</td>\n      <td>0.00</td>\n      <td>0.00</td>\n      <td>0.00</td>\n      <td>[normal]</td>\n      <td>21</td>\n    </tr>\n    <tr>\n      <th>19</th>\n      <td>0</td>\n      <td>0</td>\n      <td>34</td>\n      <td>S0</td>\n      <td>0</td>\n      <td>0</td>\n      <td>0</td>\n      <td>0</td>\n      <td>0</td>\n      <td>0</td>\n      <td>...</td>\n      <td>0.09</td>\n      <td>0.05</td>\n      <td>0.00</td>\n      <td>0.00</td>\n      <td>1.00</td>\n      <td>1.00</td>\n      <td>0.00</td>\n      <td>0.00</td>\n      <td>[DOS]</td>\n      <td>18</td>\n    </tr>\n  </tbody>\n</table>\n<p>20 rows × 36 columns</p>\n</div>"
          },
          "metadata": {}
        }
      ],
      "execution_count": 228
    },
    {
      "cell_type": "code",
      "source": "train_dst_host_rerror_rate = {'normal': 0, 'DOS': 1, 'R2L': 2, 'U2R': 3, 'PROBE': 4}",
      "metadata": {
        "id": "9Se9mdO1JOn0",
        "colab_type": "code",
        "colab": {},
        "trusted": true
      },
      "outputs": [],
      "execution_count": 229
    },
    {
      "cell_type": "code",
      "source": "train_dst_host_rerror_rate.items()",
      "metadata": {
        "id": "sKjdwt0RJOn6",
        "colab_type": "code",
        "colab": {},
        "trusted": true
      },
      "outputs": [
        {
          "execution_count": 230,
          "output_type": "execute_result",
          "data": {
            "text/plain": "dict_items([('normal', 0), ('DOS', 1), ('R2L', 2), ('U2R', 3), ('PROBE', 4)])"
          },
          "metadata": {}
        }
      ],
      "execution_count": 230
    },
    {
      "cell_type": "code",
      "source": "kdd_train_format.train_dst_host_rerror_rate = [train_dst_host_rerror_rate[item[0]] for item in kdd_train_format.train_dst_host_rerror_rate]",
      "metadata": {
        "id": "90t3kts9JOoC",
        "colab_type": "code",
        "colab": {},
        "trusted": true
      },
      "outputs": [],
      "execution_count": 231
    },
    {
      "cell_type": "code",
      "source": "train_flag = {'SF': 0, 'S0': 1, 'REJ': 2, 'RSTR': 3, 'RSTO': 4, 'S1': 5, 'SH': 6, 'S2': 7, 'RSTOS0': 8, 'S3': 9,\n              'OTH': 10}",
      "metadata": {
        "id": "4EDxMI_aJOoJ",
        "colab_type": "code",
        "colab": {},
        "trusted": true
      },
      "outputs": [],
      "execution_count": 232
    },
    {
      "cell_type": "code",
      "source": "train_flag.items()",
      "metadata": {
        "id": "xIaKkKm1JOoP",
        "colab_type": "code",
        "colab": {
          "base_uri": "https://localhost:8080/",
          "height": 54
        },
        "outputId": "8329f722-3a1d-42d6-b370-cd442c9d9528",
        "trusted": true
      },
      "outputs": [
        {
          "execution_count": 233,
          "output_type": "execute_result",
          "data": {
            "text/plain": "dict_items([('SF', 0), ('S0', 1), ('REJ', 2), ('RSTR', 3), ('RSTO', 4), ('S1', 5), ('SH', 6), ('S2', 7), ('RSTOS0', 8), ('S3', 9), ('OTH', 10)])"
          },
          "metadata": {}
        }
      ],
      "execution_count": 233
    },
    {
      "cell_type": "code",
      "source": "kdd_train_format.train_flag = [train_flag[item] for item in kdd_train_format.train_flag]",
      "metadata": {
        "id": "poTCAZZxJOob",
        "colab_type": "code",
        "colab": {},
        "trusted": true
      },
      "outputs": [],
      "execution_count": 234
    },
    {
      "cell_type": "code",
      "source": "kdd_train_format.head(20)",
      "metadata": {
        "scrolled": true,
        "id": "F3eL8kDAJOoj",
        "colab_type": "code",
        "colab": {
          "base_uri": "https://localhost:8080/",
          "height": 697
        },
        "outputId": "1de8032e-b1c0-4860-c0c4-f0babb87222e",
        "trusted": true
      },
      "outputs": [
        {
          "execution_count": 235,
          "output_type": "execute_result",
          "data": {
            "text/plain": "    train_duration  train_protocol_type  train_service  train_flag  src_bytes  \\\n0                0                    1             43           0        146   \n1                0                    0             48           1          0   \n2                0                    0             22           0        232   \n3                0                    0             22           0        199   \n4                0                    0             48           2          0   \n5                0                    0             48           1          0   \n6                0                    0             48           1          0   \n7                0                    0             50           1          0   \n8                0                    0             48           1          0   \n9                0                    0             48           2          0   \n10               0                    0             48           1          0   \n11               0                    0             22           0        287   \n12               0                    0             18           0        334   \n13               0                    0             35           1          0   \n14               0                    0             37           1          0   \n15               0                    0             22           0        300   \n16               0                    2             12           0         18   \n17               0                    0             22           0        233   \n18               0                    0             22           0        343   \n19               0                    0             34           1          0   \n\n    dst_bytes  land  hot  logged_in  num_compromised  ...  dst_host_count  \\\n0           0     0    0          0                0  ...            0.00   \n1           0     0    0          0                0  ...            0.10   \n2        8153     0    0          1                0  ...            1.00   \n3         420     0    0          1                0  ...            1.00   \n4           0     0    0          0                0  ...            0.07   \n5           0     0    0          0                0  ...            0.04   \n6           0     0    0          0                0  ...            0.06   \n7           0     0    0          0                0  ...            0.09   \n8           0     0    0          0                0  ...            0.05   \n9           0     0    0          0                0  ...            0.05   \n10          0     0    0          0                0  ...            0.05   \n11       2251     0    0          1                0  ...            1.00   \n12          0     0    0          1                0  ...            1.00   \n13          0     0    0          0                0  ...            0.00   \n14          0     0    0          0                0  ...            0.01   \n15      13788     0    0          1                0  ...            1.00   \n16          0     0    0          0                0  ...            1.00   \n17        616     0    0          1                0  ...            1.00   \n18       1178     0    0          1                0  ...            1.00   \n19          0     0    0          0                0  ...            0.09   \n\n    dst_host_srv_count  dst_host_same_srv_rate  dst_host_diff_srv_rate  \\\n0                 0.60                    0.88                    0.00   \n1                 0.05                    0.00                    0.00   \n2                 0.00                    0.03                    0.04   \n3                 0.00                    0.00                    0.00   \n4                 0.07                    0.00                    0.00   \n5                 0.05                    0.00                    0.00   \n6                 0.07                    0.00                    0.00   \n7                 0.05                    0.00                    0.00   \n8                 0.06                    0.00                    0.00   \n9                 0.07                    0.00                    0.00   \n10                0.07                    0.00                    0.00   \n11                0.00                    0.12                    0.03   \n12                0.00                    1.00                    0.20   \n13                0.07                    0.00                    0.00   \n14                0.06                    0.00                    0.00   \n15                0.00                    0.01                    0.02   \n16                0.00                    1.00                    1.00   \n17                0.00                    0.02                    0.03   \n18                0.00                    0.01                    0.04   \n19                0.05                    0.00                    0.00   \n\n    dst_host_same_src_port_rate  dst_host_srv_diff_host_rate  \\\n0                          0.00                         0.00   \n1                          1.00                         1.00   \n2                          0.03                         0.01   \n3                          0.00                         0.00   \n4                          0.00                         0.00   \n5                          1.00                         1.00   \n6                          1.00                         1.00   \n7                          1.00                         1.00   \n8                          1.00                         1.00   \n9                          0.00                         0.00   \n10                         1.00                         1.00   \n11                         0.00                         0.00   \n12                         0.00                         0.00   \n13                         1.00                         1.00   \n14                         1.00                         1.00   \n15                         0.00                         0.00   \n16                         0.00                         0.00   \n17                         0.00                         0.00   \n18                         0.00                         0.00   \n19                         1.00                         1.00   \n\n    dst_host_serror_rate  dst_host_srv_serror_rate  \\\n0                   0.00                      0.00   \n1                   0.00                      0.00   \n2                   0.00                      0.01   \n3                   0.00                      0.00   \n4                   1.00                      1.00   \n5                   0.00                      0.00   \n6                   0.00                      0.00   \n7                   0.00                      0.00   \n8                   0.00                      0.00   \n9                   1.00                      1.00   \n10                  0.00                      0.00   \n11                  0.00                      0.00   \n12                  0.00                      0.00   \n13                  0.00                      0.00   \n14                  0.00                      0.00   \n15                  0.00                      0.00   \n16                  0.00                      0.00   \n17                  0.02                      0.00   \n18                  0.00                      0.00   \n19                  0.00                      0.00   \n\n    train_dst_host_rerror_rate  dst_bushost_srv_rerror_rate  \n0                            0                           15  \n1                            1                           19  \n2                            0                           21  \n3                            0                           21  \n4                            1                           21  \n5                            1                           21  \n6                            1                           21  \n7                            1                           21  \n8                            1                           21  \n9                            1                           21  \n10                           1                           21  \n11                           0                           21  \n12                           2                           15  \n13                           1                           19  \n14                           1                           18  \n15                           0                           21  \n16                           4                           18  \n17                           0                           21  \n18                           0                           21  \n19                           1                           18  \n\n[20 rows x 36 columns]",
            "text/html": "<div>\n<style scoped>\n    .dataframe tbody tr th:only-of-type {\n        vertical-align: middle;\n    }\n\n    .dataframe tbody tr th {\n        vertical-align: top;\n    }\n\n    .dataframe thead th {\n        text-align: right;\n    }\n</style>\n<table border=\"1\" class=\"dataframe\">\n  <thead>\n    <tr style=\"text-align: right;\">\n      <th></th>\n      <th>train_duration</th>\n      <th>train_protocol_type</th>\n      <th>train_service</th>\n      <th>train_flag</th>\n      <th>src_bytes</th>\n      <th>dst_bytes</th>\n      <th>land</th>\n      <th>hot</th>\n      <th>logged_in</th>\n      <th>num_compromised</th>\n      <th>...</th>\n      <th>dst_host_count</th>\n      <th>dst_host_srv_count</th>\n      <th>dst_host_same_srv_rate</th>\n      <th>dst_host_diff_srv_rate</th>\n      <th>dst_host_same_src_port_rate</th>\n      <th>dst_host_srv_diff_host_rate</th>\n      <th>dst_host_serror_rate</th>\n      <th>dst_host_srv_serror_rate</th>\n      <th>train_dst_host_rerror_rate</th>\n      <th>dst_bushost_srv_rerror_rate</th>\n    </tr>\n  </thead>\n  <tbody>\n    <tr>\n      <th>0</th>\n      <td>0</td>\n      <td>1</td>\n      <td>43</td>\n      <td>0</td>\n      <td>146</td>\n      <td>0</td>\n      <td>0</td>\n      <td>0</td>\n      <td>0</td>\n      <td>0</td>\n      <td>...</td>\n      <td>0.00</td>\n      <td>0.60</td>\n      <td>0.88</td>\n      <td>0.00</td>\n      <td>0.00</td>\n      <td>0.00</td>\n      <td>0.00</td>\n      <td>0.00</td>\n      <td>0</td>\n      <td>15</td>\n    </tr>\n    <tr>\n      <th>1</th>\n      <td>0</td>\n      <td>0</td>\n      <td>48</td>\n      <td>1</td>\n      <td>0</td>\n      <td>0</td>\n      <td>0</td>\n      <td>0</td>\n      <td>0</td>\n      <td>0</td>\n      <td>...</td>\n      <td>0.10</td>\n      <td>0.05</td>\n      <td>0.00</td>\n      <td>0.00</td>\n      <td>1.00</td>\n      <td>1.00</td>\n      <td>0.00</td>\n      <td>0.00</td>\n      <td>1</td>\n      <td>19</td>\n    </tr>\n    <tr>\n      <th>2</th>\n      <td>0</td>\n      <td>0</td>\n      <td>22</td>\n      <td>0</td>\n      <td>232</td>\n      <td>8153</td>\n      <td>0</td>\n      <td>0</td>\n      <td>1</td>\n      <td>0</td>\n      <td>...</td>\n      <td>1.00</td>\n      <td>0.00</td>\n      <td>0.03</td>\n      <td>0.04</td>\n      <td>0.03</td>\n      <td>0.01</td>\n      <td>0.00</td>\n      <td>0.01</td>\n      <td>0</td>\n      <td>21</td>\n    </tr>\n    <tr>\n      <th>3</th>\n      <td>0</td>\n      <td>0</td>\n      <td>22</td>\n      <td>0</td>\n      <td>199</td>\n      <td>420</td>\n      <td>0</td>\n      <td>0</td>\n      <td>1</td>\n      <td>0</td>\n      <td>...</td>\n      <td>1.00</td>\n      <td>0.00</td>\n      <td>0.00</td>\n      <td>0.00</td>\n      <td>0.00</td>\n      <td>0.00</td>\n      <td>0.00</td>\n      <td>0.00</td>\n      <td>0</td>\n      <td>21</td>\n    </tr>\n    <tr>\n      <th>4</th>\n      <td>0</td>\n      <td>0</td>\n      <td>48</td>\n      <td>2</td>\n      <td>0</td>\n      <td>0</td>\n      <td>0</td>\n      <td>0</td>\n      <td>0</td>\n      <td>0</td>\n      <td>...</td>\n      <td>0.07</td>\n      <td>0.07</td>\n      <td>0.00</td>\n      <td>0.00</td>\n      <td>0.00</td>\n      <td>0.00</td>\n      <td>1.00</td>\n      <td>1.00</td>\n      <td>1</td>\n      <td>21</td>\n    </tr>\n    <tr>\n      <th>5</th>\n      <td>0</td>\n      <td>0</td>\n      <td>48</td>\n      <td>1</td>\n      <td>0</td>\n      <td>0</td>\n      <td>0</td>\n      <td>0</td>\n      <td>0</td>\n      <td>0</td>\n      <td>...</td>\n      <td>0.04</td>\n      <td>0.05</td>\n      <td>0.00</td>\n      <td>0.00</td>\n      <td>1.00</td>\n      <td>1.00</td>\n      <td>0.00</td>\n      <td>0.00</td>\n      <td>1</td>\n      <td>21</td>\n    </tr>\n    <tr>\n      <th>6</th>\n      <td>0</td>\n      <td>0</td>\n      <td>48</td>\n      <td>1</td>\n      <td>0</td>\n      <td>0</td>\n      <td>0</td>\n      <td>0</td>\n      <td>0</td>\n      <td>0</td>\n      <td>...</td>\n      <td>0.06</td>\n      <td>0.07</td>\n      <td>0.00</td>\n      <td>0.00</td>\n      <td>1.00</td>\n      <td>1.00</td>\n      <td>0.00</td>\n      <td>0.00</td>\n      <td>1</td>\n      <td>21</td>\n    </tr>\n    <tr>\n      <th>7</th>\n      <td>0</td>\n      <td>0</td>\n      <td>50</td>\n      <td>1</td>\n      <td>0</td>\n      <td>0</td>\n      <td>0</td>\n      <td>0</td>\n      <td>0</td>\n      <td>0</td>\n      <td>...</td>\n      <td>0.09</td>\n      <td>0.05</td>\n      <td>0.00</td>\n      <td>0.00</td>\n      <td>1.00</td>\n      <td>1.00</td>\n      <td>0.00</td>\n      <td>0.00</td>\n      <td>1</td>\n      <td>21</td>\n    </tr>\n    <tr>\n      <th>8</th>\n      <td>0</td>\n      <td>0</td>\n      <td>48</td>\n      <td>1</td>\n      <td>0</td>\n      <td>0</td>\n      <td>0</td>\n      <td>0</td>\n      <td>0</td>\n      <td>0</td>\n      <td>...</td>\n      <td>0.05</td>\n      <td>0.06</td>\n      <td>0.00</td>\n      <td>0.00</td>\n      <td>1.00</td>\n      <td>1.00</td>\n      <td>0.00</td>\n      <td>0.00</td>\n      <td>1</td>\n      <td>21</td>\n    </tr>\n    <tr>\n      <th>9</th>\n      <td>0</td>\n      <td>0</td>\n      <td>48</td>\n      <td>2</td>\n      <td>0</td>\n      <td>0</td>\n      <td>0</td>\n      <td>0</td>\n      <td>0</td>\n      <td>0</td>\n      <td>...</td>\n      <td>0.05</td>\n      <td>0.07</td>\n      <td>0.00</td>\n      <td>0.00</td>\n      <td>0.00</td>\n      <td>0.00</td>\n      <td>1.00</td>\n      <td>1.00</td>\n      <td>1</td>\n      <td>21</td>\n    </tr>\n    <tr>\n      <th>10</th>\n      <td>0</td>\n      <td>0</td>\n      <td>48</td>\n      <td>1</td>\n      <td>0</td>\n      <td>0</td>\n      <td>0</td>\n      <td>0</td>\n      <td>0</td>\n      <td>0</td>\n      <td>...</td>\n      <td>0.05</td>\n      <td>0.07</td>\n      <td>0.00</td>\n      <td>0.00</td>\n      <td>1.00</td>\n      <td>1.00</td>\n      <td>0.00</td>\n      <td>0.00</td>\n      <td>1</td>\n      <td>21</td>\n    </tr>\n    <tr>\n      <th>11</th>\n      <td>0</td>\n      <td>0</td>\n      <td>22</td>\n      <td>0</td>\n      <td>287</td>\n      <td>2251</td>\n      <td>0</td>\n      <td>0</td>\n      <td>1</td>\n      <td>0</td>\n      <td>...</td>\n      <td>1.00</td>\n      <td>0.00</td>\n      <td>0.12</td>\n      <td>0.03</td>\n      <td>0.00</td>\n      <td>0.00</td>\n      <td>0.00</td>\n      <td>0.00</td>\n      <td>0</td>\n      <td>21</td>\n    </tr>\n    <tr>\n      <th>12</th>\n      <td>0</td>\n      <td>0</td>\n      <td>18</td>\n      <td>0</td>\n      <td>334</td>\n      <td>0</td>\n      <td>0</td>\n      <td>0</td>\n      <td>1</td>\n      <td>0</td>\n      <td>...</td>\n      <td>1.00</td>\n      <td>0.00</td>\n      <td>1.00</td>\n      <td>0.20</td>\n      <td>0.00</td>\n      <td>0.00</td>\n      <td>0.00</td>\n      <td>0.00</td>\n      <td>2</td>\n      <td>15</td>\n    </tr>\n    <tr>\n      <th>13</th>\n      <td>0</td>\n      <td>0</td>\n      <td>35</td>\n      <td>1</td>\n      <td>0</td>\n      <td>0</td>\n      <td>0</td>\n      <td>0</td>\n      <td>0</td>\n      <td>0</td>\n      <td>...</td>\n      <td>0.00</td>\n      <td>0.07</td>\n      <td>0.00</td>\n      <td>0.00</td>\n      <td>1.00</td>\n      <td>1.00</td>\n      <td>0.00</td>\n      <td>0.00</td>\n      <td>1</td>\n      <td>19</td>\n    </tr>\n    <tr>\n      <th>14</th>\n      <td>0</td>\n      <td>0</td>\n      <td>37</td>\n      <td>1</td>\n      <td>0</td>\n      <td>0</td>\n      <td>0</td>\n      <td>0</td>\n      <td>0</td>\n      <td>0</td>\n      <td>...</td>\n      <td>0.01</td>\n      <td>0.06</td>\n      <td>0.00</td>\n      <td>0.00</td>\n      <td>1.00</td>\n      <td>1.00</td>\n      <td>0.00</td>\n      <td>0.00</td>\n      <td>1</td>\n      <td>18</td>\n    </tr>\n    <tr>\n      <th>15</th>\n      <td>0</td>\n      <td>0</td>\n      <td>22</td>\n      <td>0</td>\n      <td>300</td>\n      <td>13788</td>\n      <td>0</td>\n      <td>0</td>\n      <td>1</td>\n      <td>0</td>\n      <td>...</td>\n      <td>1.00</td>\n      <td>0.00</td>\n      <td>0.01</td>\n      <td>0.02</td>\n      <td>0.00</td>\n      <td>0.00</td>\n      <td>0.00</td>\n      <td>0.00</td>\n      <td>0</td>\n      <td>21</td>\n    </tr>\n    <tr>\n      <th>16</th>\n      <td>0</td>\n      <td>2</td>\n      <td>12</td>\n      <td>0</td>\n      <td>18</td>\n      <td>0</td>\n      <td>0</td>\n      <td>0</td>\n      <td>0</td>\n      <td>0</td>\n      <td>...</td>\n      <td>1.00</td>\n      <td>0.00</td>\n      <td>1.00</td>\n      <td>1.00</td>\n      <td>0.00</td>\n      <td>0.00</td>\n      <td>0.00</td>\n      <td>0.00</td>\n      <td>4</td>\n      <td>18</td>\n    </tr>\n    <tr>\n      <th>17</th>\n      <td>0</td>\n      <td>0</td>\n      <td>22</td>\n      <td>0</td>\n      <td>233</td>\n      <td>616</td>\n      <td>0</td>\n      <td>0</td>\n      <td>1</td>\n      <td>0</td>\n      <td>...</td>\n      <td>1.00</td>\n      <td>0.00</td>\n      <td>0.02</td>\n      <td>0.03</td>\n      <td>0.00</td>\n      <td>0.00</td>\n      <td>0.02</td>\n      <td>0.00</td>\n      <td>0</td>\n      <td>21</td>\n    </tr>\n    <tr>\n      <th>18</th>\n      <td>0</td>\n      <td>0</td>\n      <td>22</td>\n      <td>0</td>\n      <td>343</td>\n      <td>1178</td>\n      <td>0</td>\n      <td>0</td>\n      <td>1</td>\n      <td>0</td>\n      <td>...</td>\n      <td>1.00</td>\n      <td>0.00</td>\n      <td>0.01</td>\n      <td>0.04</td>\n      <td>0.00</td>\n      <td>0.00</td>\n      <td>0.00</td>\n      <td>0.00</td>\n      <td>0</td>\n      <td>21</td>\n    </tr>\n    <tr>\n      <th>19</th>\n      <td>0</td>\n      <td>0</td>\n      <td>34</td>\n      <td>1</td>\n      <td>0</td>\n      <td>0</td>\n      <td>0</td>\n      <td>0</td>\n      <td>0</td>\n      <td>0</td>\n      <td>...</td>\n      <td>0.09</td>\n      <td>0.05</td>\n      <td>0.00</td>\n      <td>0.00</td>\n      <td>1.00</td>\n      <td>1.00</td>\n      <td>0.00</td>\n      <td>0.00</td>\n      <td>1</td>\n      <td>18</td>\n    </tr>\n  </tbody>\n</table>\n<p>20 rows × 36 columns</p>\n</div>"
          },
          "metadata": {}
        }
      ],
      "execution_count": 235
    },
    {
      "cell_type": "code",
      "source": "y = kdd_train_format.iloc[:, -2]\ny",
      "metadata": {
        "id": "Gy6lH7_gJOoq",
        "colab_type": "code",
        "colab": {
          "base_uri": "https://localhost:8080/",
          "height": 225
        },
        "outputId": "d6ac1376-6b5d-490d-d395-30074f9f362d",
        "trusted": true
      },
      "outputs": [
        {
          "execution_count": 236,
          "output_type": "execute_result",
          "data": {
            "text/plain": "0        0\n1        1\n2        0\n3        0\n4        1\n        ..\n70930    0\n70931    4\n70932    0\n70933    0\n70934    0\nName: train_dst_host_rerror_rate, Length: 70935, dtype: int64"
          },
          "metadata": {}
        }
      ],
      "execution_count": 236
    },
    {
      "cell_type": "code",
      "source": "x = kdd_train_format.drop(['train_dst_host_rerror_rate'], axis=1)\nx",
      "metadata": {
        "id": "kGJ10Kv8JOoy",
        "colab_type": "code",
        "colab": {
          "base_uri": "https://localhost:8080/",
          "height": 444
        },
        "outputId": "e385f5f5-16bd-4168-df77-2184bca12130",
        "trusted": true
      },
      "outputs": [
        {
          "execution_count": 237,
          "output_type": "execute_result",
          "data": {
            "text/plain": "       train_duration  train_protocol_type  train_service  train_flag  \\\n0                   0                    1             43           0   \n1                   0                    0             48           1   \n2                   0                    0             22           0   \n3                   0                    0             22           0   \n4                   0                    0             48           2   \n...               ...                  ...            ...         ...   \n70930               0                    0             22           0   \n70931               0                    2             12           0   \n70932               0                    1             10           0   \n70933               1                    0             17           0   \n70934               0                    0             43           2   \n\n       src_bytes  dst_bytes  land  hot  logged_in  num_compromised  ...  \\\n0            146          0     0    0          0                0  ...   \n1              0          0     0    0          0                0  ...   \n2            232       8153     0    0          1                0  ...   \n3            199        420     0    0          1                0  ...   \n4              0          0     0    0          0                0  ...   \n...          ...        ...   ...  ...        ...              ...  ...   \n70930        309       2651     0    0          1                0  ...   \n70931          8          0     0    0          0                0  ...   \n70932         44        139     0    0          0                0  ...   \n70933       1484       4152     0   30          1                0  ...   \n70934          0          0     0    0          0                0  ...   \n\n       srv_diff_host_rate  dst_host_count  dst_host_srv_count  \\\n0                       1            0.00                0.60   \n1                      26            0.10                0.05   \n2                     255            1.00                0.00   \n3                     255            1.00                0.00   \n4                      19            0.07                0.07   \n...                   ...             ...                 ...   \n70930                 255            1.00                0.00   \n70931                  87            1.00                0.00   \n70932                 254            1.00                0.01   \n70933                  42            0.22                0.04   \n70934                   1            0.00                1.00   \n\n       dst_host_same_srv_rate  dst_host_diff_srv_rate  \\\n0                        0.88                    0.00   \n1                        0.00                    0.00   \n2                        0.03                    0.04   \n3                        0.00                    0.00   \n4                        0.00                    0.00   \n...                       ...                     ...   \n70930                    0.02                    0.02   \n70931                    1.00                    0.51   \n70932                    0.00                    0.00   \n70933                    0.01                    0.00   \n70934                    0.00                    0.00   \n\n       dst_host_same_src_port_rate  dst_host_srv_diff_host_rate  \\\n0                             0.00                         0.00   \n1                             1.00                         1.00   \n2                             0.03                         0.01   \n3                             0.00                         0.00   \n4                             0.00                         0.00   \n...                            ...                          ...   \n70930                         0.02                         0.00   \n70931                         0.00                         0.00   \n70932                         0.00                         0.00   \n70933                         0.01                         0.00   \n70934                         0.17                         0.00   \n\n       dst_host_serror_rate  dst_host_srv_serror_rate  \\\n0                       0.0                      0.00   \n1                       0.0                      0.00   \n2                       0.0                      0.01   \n3                       0.0                      0.00   \n4                       1.0                      1.00   \n...                     ...                       ...   \n70930                   0.0                      0.00   \n70931                   0.0                      0.00   \n70932                   0.0                      0.00   \n70933                   0.0                      0.00   \n70934                   0.0                      0.00   \n\n       dst_bushost_srv_rerror_rate  \n0                               15  \n1                               19  \n2                               21  \n3                               21  \n4                               21  \n...                            ...  \n70930                           21  \n70931                           17  \n70932                           19  \n70933                           19  \n70934                           19  \n\n[70935 rows x 35 columns]",
            "text/html": "<div>\n<style scoped>\n    .dataframe tbody tr th:only-of-type {\n        vertical-align: middle;\n    }\n\n    .dataframe tbody tr th {\n        vertical-align: top;\n    }\n\n    .dataframe thead th {\n        text-align: right;\n    }\n</style>\n<table border=\"1\" class=\"dataframe\">\n  <thead>\n    <tr style=\"text-align: right;\">\n      <th></th>\n      <th>train_duration</th>\n      <th>train_protocol_type</th>\n      <th>train_service</th>\n      <th>train_flag</th>\n      <th>src_bytes</th>\n      <th>dst_bytes</th>\n      <th>land</th>\n      <th>hot</th>\n      <th>logged_in</th>\n      <th>num_compromised</th>\n      <th>...</th>\n      <th>srv_diff_host_rate</th>\n      <th>dst_host_count</th>\n      <th>dst_host_srv_count</th>\n      <th>dst_host_same_srv_rate</th>\n      <th>dst_host_diff_srv_rate</th>\n      <th>dst_host_same_src_port_rate</th>\n      <th>dst_host_srv_diff_host_rate</th>\n      <th>dst_host_serror_rate</th>\n      <th>dst_host_srv_serror_rate</th>\n      <th>dst_bushost_srv_rerror_rate</th>\n    </tr>\n  </thead>\n  <tbody>\n    <tr>\n      <th>0</th>\n      <td>0</td>\n      <td>1</td>\n      <td>43</td>\n      <td>0</td>\n      <td>146</td>\n      <td>0</td>\n      <td>0</td>\n      <td>0</td>\n      <td>0</td>\n      <td>0</td>\n      <td>...</td>\n      <td>1</td>\n      <td>0.00</td>\n      <td>0.60</td>\n      <td>0.88</td>\n      <td>0.00</td>\n      <td>0.00</td>\n      <td>0.00</td>\n      <td>0.0</td>\n      <td>0.00</td>\n      <td>15</td>\n    </tr>\n    <tr>\n      <th>1</th>\n      <td>0</td>\n      <td>0</td>\n      <td>48</td>\n      <td>1</td>\n      <td>0</td>\n      <td>0</td>\n      <td>0</td>\n      <td>0</td>\n      <td>0</td>\n      <td>0</td>\n      <td>...</td>\n      <td>26</td>\n      <td>0.10</td>\n      <td>0.05</td>\n      <td>0.00</td>\n      <td>0.00</td>\n      <td>1.00</td>\n      <td>1.00</td>\n      <td>0.0</td>\n      <td>0.00</td>\n      <td>19</td>\n    </tr>\n    <tr>\n      <th>2</th>\n      <td>0</td>\n      <td>0</td>\n      <td>22</td>\n      <td>0</td>\n      <td>232</td>\n      <td>8153</td>\n      <td>0</td>\n      <td>0</td>\n      <td>1</td>\n      <td>0</td>\n      <td>...</td>\n      <td>255</td>\n      <td>1.00</td>\n      <td>0.00</td>\n      <td>0.03</td>\n      <td>0.04</td>\n      <td>0.03</td>\n      <td>0.01</td>\n      <td>0.0</td>\n      <td>0.01</td>\n      <td>21</td>\n    </tr>\n    <tr>\n      <th>3</th>\n      <td>0</td>\n      <td>0</td>\n      <td>22</td>\n      <td>0</td>\n      <td>199</td>\n      <td>420</td>\n      <td>0</td>\n      <td>0</td>\n      <td>1</td>\n      <td>0</td>\n      <td>...</td>\n      <td>255</td>\n      <td>1.00</td>\n      <td>0.00</td>\n      <td>0.00</td>\n      <td>0.00</td>\n      <td>0.00</td>\n      <td>0.00</td>\n      <td>0.0</td>\n      <td>0.00</td>\n      <td>21</td>\n    </tr>\n    <tr>\n      <th>4</th>\n      <td>0</td>\n      <td>0</td>\n      <td>48</td>\n      <td>2</td>\n      <td>0</td>\n      <td>0</td>\n      <td>0</td>\n      <td>0</td>\n      <td>0</td>\n      <td>0</td>\n      <td>...</td>\n      <td>19</td>\n      <td>0.07</td>\n      <td>0.07</td>\n      <td>0.00</td>\n      <td>0.00</td>\n      <td>0.00</td>\n      <td>0.00</td>\n      <td>1.0</td>\n      <td>1.00</td>\n      <td>21</td>\n    </tr>\n    <tr>\n      <th>...</th>\n      <td>...</td>\n      <td>...</td>\n      <td>...</td>\n      <td>...</td>\n      <td>...</td>\n      <td>...</td>\n      <td>...</td>\n      <td>...</td>\n      <td>...</td>\n      <td>...</td>\n      <td>...</td>\n      <td>...</td>\n      <td>...</td>\n      <td>...</td>\n      <td>...</td>\n      <td>...</td>\n      <td>...</td>\n      <td>...</td>\n      <td>...</td>\n      <td>...</td>\n      <td>...</td>\n    </tr>\n    <tr>\n      <th>70930</th>\n      <td>0</td>\n      <td>0</td>\n      <td>22</td>\n      <td>0</td>\n      <td>309</td>\n      <td>2651</td>\n      <td>0</td>\n      <td>0</td>\n      <td>1</td>\n      <td>0</td>\n      <td>...</td>\n      <td>255</td>\n      <td>1.00</td>\n      <td>0.00</td>\n      <td>0.02</td>\n      <td>0.02</td>\n      <td>0.02</td>\n      <td>0.00</td>\n      <td>0.0</td>\n      <td>0.00</td>\n      <td>21</td>\n    </tr>\n    <tr>\n      <th>70931</th>\n      <td>0</td>\n      <td>2</td>\n      <td>12</td>\n      <td>0</td>\n      <td>8</td>\n      <td>0</td>\n      <td>0</td>\n      <td>0</td>\n      <td>0</td>\n      <td>0</td>\n      <td>...</td>\n      <td>87</td>\n      <td>1.00</td>\n      <td>0.00</td>\n      <td>1.00</td>\n      <td>0.51</td>\n      <td>0.00</td>\n      <td>0.00</td>\n      <td>0.0</td>\n      <td>0.00</td>\n      <td>17</td>\n    </tr>\n    <tr>\n      <th>70932</th>\n      <td>0</td>\n      <td>1</td>\n      <td>10</td>\n      <td>0</td>\n      <td>44</td>\n      <td>139</td>\n      <td>0</td>\n      <td>0</td>\n      <td>0</td>\n      <td>0</td>\n      <td>...</td>\n      <td>254</td>\n      <td>1.00</td>\n      <td>0.01</td>\n      <td>0.00</td>\n      <td>0.00</td>\n      <td>0.00</td>\n      <td>0.00</td>\n      <td>0.0</td>\n      <td>0.00</td>\n      <td>19</td>\n    </tr>\n    <tr>\n      <th>70933</th>\n      <td>1</td>\n      <td>0</td>\n      <td>17</td>\n      <td>0</td>\n      <td>1484</td>\n      <td>4152</td>\n      <td>0</td>\n      <td>30</td>\n      <td>1</td>\n      <td>0</td>\n      <td>...</td>\n      <td>42</td>\n      <td>0.22</td>\n      <td>0.04</td>\n      <td>0.01</td>\n      <td>0.00</td>\n      <td>0.01</td>\n      <td>0.00</td>\n      <td>0.0</td>\n      <td>0.00</td>\n      <td>19</td>\n    </tr>\n    <tr>\n      <th>70934</th>\n      <td>0</td>\n      <td>0</td>\n      <td>43</td>\n      <td>2</td>\n      <td>0</td>\n      <td>0</td>\n      <td>0</td>\n      <td>0</td>\n      <td>0</td>\n      <td>0</td>\n      <td>...</td>\n      <td>1</td>\n      <td>0.00</td>\n      <td>1.00</td>\n      <td>0.00</td>\n      <td>0.00</td>\n      <td>0.17</td>\n      <td>0.00</td>\n      <td>0.0</td>\n      <td>0.00</td>\n      <td>19</td>\n    </tr>\n  </tbody>\n</table>\n<p>70935 rows × 35 columns</p>\n</div>"
          },
          "metadata": {}
        }
      ],
      "execution_count": 237
    },
    {
      "cell_type": "markdown",
      "source": "",
      "metadata": {
        "id": "LrNl4HAkJOo6",
        "colab_type": "text"
      }
    },
    {
      "cell_type": "code",
      "source": "from sklearn.model_selection import train_test_split\nX_train,X_test,y_train,y_test=train_test_split(x,y,test_size=0.3, random_state=100)",
      "metadata": {
        "id": "WFksEL9vJOo9",
        "colab_type": "code",
        "colab": {},
        "trusted": true
      },
      "outputs": [],
      "execution_count": 192
    },
    {
      "cell_type": "code",
      "source": "#RANDOM FORESTS:\nfrom sklearn.ensemble import RandomForestClassifier",
      "metadata": {
        "id": "LqBK2G3jJOpv",
        "colab_type": "code",
        "colab": {},
        "trusted": true
      },
      "outputs": [],
      "execution_count": 201
    },
    {
      "cell_type": "code",
      "source": "rf = RandomForestClassifier()",
      "metadata": {
        "id": "R3Xmns65JOp2",
        "colab_type": "code",
        "colab": {},
        "trusted": true
      },
      "outputs": [],
      "execution_count": 202
    },
    {
      "cell_type": "code",
      "source": "rf.fit(X_train,y_train)",
      "metadata": {
        "id": "XQhV0k3KJOp7",
        "colab_type": "code",
        "colab": {
          "base_uri": "https://localhost:8080/",
          "height": 336
        },
        "outputId": "56bc68ea-6214-4ef7-efc1-bde648094173",
        "trusted": true
      },
      "outputs": [
        {
          "execution_count": 203,
          "output_type": "execute_result",
          "data": {
            "text/plain": "RandomForestClassifier()",
            "text/html": "<style>#sk-container-id-2 {color: black;}#sk-container-id-2 pre{padding: 0;}#sk-container-id-2 div.sk-toggleable {background-color: white;}#sk-container-id-2 label.sk-toggleable__label {cursor: pointer;display: block;width: 100%;margin-bottom: 0;padding: 0.3em;box-sizing: border-box;text-align: center;}#sk-container-id-2 label.sk-toggleable__label-arrow:before {content: \"▸\";float: left;margin-right: 0.25em;color: #696969;}#sk-container-id-2 label.sk-toggleable__label-arrow:hover:before {color: black;}#sk-container-id-2 div.sk-estimator:hover label.sk-toggleable__label-arrow:before {color: black;}#sk-container-id-2 div.sk-toggleable__content {max-height: 0;max-width: 0;overflow: hidden;text-align: left;background-color: #f0f8ff;}#sk-container-id-2 div.sk-toggleable__content pre {margin: 0.2em;color: black;border-radius: 0.25em;background-color: #f0f8ff;}#sk-container-id-2 input.sk-toggleable__control:checked~div.sk-toggleable__content {max-height: 200px;max-width: 100%;overflow: auto;}#sk-container-id-2 input.sk-toggleable__control:checked~label.sk-toggleable__label-arrow:before {content: \"▾\";}#sk-container-id-2 div.sk-estimator input.sk-toggleable__control:checked~label.sk-toggleable__label {background-color: #d4ebff;}#sk-container-id-2 div.sk-label input.sk-toggleable__control:checked~label.sk-toggleable__label {background-color: #d4ebff;}#sk-container-id-2 input.sk-hidden--visually {border: 0;clip: rect(1px 1px 1px 1px);clip: rect(1px, 1px, 1px, 1px);height: 1px;margin: -1px;overflow: hidden;padding: 0;position: absolute;width: 1px;}#sk-container-id-2 div.sk-estimator {font-family: monospace;background-color: #f0f8ff;border: 1px dotted black;border-radius: 0.25em;box-sizing: border-box;margin-bottom: 0.5em;}#sk-container-id-2 div.sk-estimator:hover {background-color: #d4ebff;}#sk-container-id-2 div.sk-parallel-item::after {content: \"\";width: 100%;border-bottom: 1px solid gray;flex-grow: 1;}#sk-container-id-2 div.sk-label:hover label.sk-toggleable__label {background-color: #d4ebff;}#sk-container-id-2 div.sk-serial::before {content: \"\";position: absolute;border-left: 1px solid gray;box-sizing: border-box;top: 0;bottom: 0;left: 50%;z-index: 0;}#sk-container-id-2 div.sk-serial {display: flex;flex-direction: column;align-items: center;background-color: white;padding-right: 0.2em;padding-left: 0.2em;position: relative;}#sk-container-id-2 div.sk-item {position: relative;z-index: 1;}#sk-container-id-2 div.sk-parallel {display: flex;align-items: stretch;justify-content: center;background-color: white;position: relative;}#sk-container-id-2 div.sk-item::before, #sk-container-id-2 div.sk-parallel-item::before {content: \"\";position: absolute;border-left: 1px solid gray;box-sizing: border-box;top: 0;bottom: 0;left: 50%;z-index: -1;}#sk-container-id-2 div.sk-parallel-item {display: flex;flex-direction: column;z-index: 1;position: relative;background-color: white;}#sk-container-id-2 div.sk-parallel-item:first-child::after {align-self: flex-end;width: 50%;}#sk-container-id-2 div.sk-parallel-item:last-child::after {align-self: flex-start;width: 50%;}#sk-container-id-2 div.sk-parallel-item:only-child::after {width: 0;}#sk-container-id-2 div.sk-dashed-wrapped {border: 1px dashed gray;margin: 0 0.4em 0.5em 0.4em;box-sizing: border-box;padding-bottom: 0.4em;background-color: white;}#sk-container-id-2 div.sk-label label {font-family: monospace;font-weight: bold;display: inline-block;line-height: 1.2em;}#sk-container-id-2 div.sk-label-container {text-align: center;}#sk-container-id-2 div.sk-container {/* jupyter's `normalize.less` sets `[hidden] { display: none; }` but bootstrap.min.css set `[hidden] { display: none !important; }` so we also need the `!important` here to be able to override the default hidden behavior on the sphinx rendered scikit-learn.org. See: https://github.com/scikit-learn/scikit-learn/issues/21755 */display: inline-block !important;position: relative;}#sk-container-id-2 div.sk-text-repr-fallback {display: none;}</style><div id=\"sk-container-id-2\" class=\"sk-top-container\"><div class=\"sk-text-repr-fallback\"><pre>RandomForestClassifier()</pre><b>In a Jupyter environment, please rerun this cell to show the HTML representation or trust the notebook. <br />On GitHub, the HTML representation is unable to render, please try loading this page with nbviewer.org.</b></div><div class=\"sk-container\" hidden><div class=\"sk-item\"><div class=\"sk-estimator sk-toggleable\"><input class=\"sk-toggleable__control sk-hidden--visually\" id=\"sk-estimator-id-2\" type=\"checkbox\" checked><label for=\"sk-estimator-id-2\" class=\"sk-toggleable__label sk-toggleable__label-arrow\">RandomForestClassifier</label><div class=\"sk-toggleable__content\"><pre>RandomForestClassifier()</pre></div></div></div></div></div>"
          },
          "metadata": {}
        }
      ],
      "execution_count": 203
    },
    {
      "cell_type": "code",
      "source": "rf.score(X_train,y_train),rf.score(X_test,y_test)",
      "metadata": {
        "id": "GgTjIfSJJOqH",
        "colab_type": "code",
        "colab": {},
        "trusted": true
      },
      "outputs": [
        {
          "execution_count": 246,
          "output_type": "execute_result",
          "data": {
            "text/plain": "(1.0, 0.9992011653587707)"
          },
          "metadata": {}
        }
      ],
      "execution_count": 246
    },
    {
      "cell_type": "code",
      "source": "y_pred_test = rf.predict(X_test)",
      "metadata": {
        "trusted": true
      },
      "outputs": [],
      "execution_count": 247
    },
    {
      "cell_type": "code",
      "source": "print(classification_report(y_test, y_pred_test))",
      "metadata": {
        "trusted": true
      },
      "outputs": [
        {
          "name": "stdout",
          "text": "              precision    recall  f1-score   support\n\n           0       1.00      1.00      1.00     11342\n           1       1.00      1.00      1.00      7802\n           2       0.98      0.99      0.99       182\n           3       1.00      0.67      0.80         9\n           4       1.00      1.00      1.00      1946\n\n    accuracy                           1.00     21281\n   macro avg       1.00      0.93      0.96     21281\nweighted avg       1.00      1.00      1.00     21281\n\n",
          "output_type": "stream"
        }
      ],
      "execution_count": 248
    },
    {
      "cell_type": "code",
      "source": "confusion_matrix(y_test, y_pred_test)",
      "metadata": {
        "trusted": true
      },
      "outputs": [
        {
          "execution_count": 249,
          "output_type": "execute_result",
          "data": {
            "text/plain": "array([[11333,     2,     4,     0,     3],\n       [    1,  7801,     0,     0,     0],\n       [    1,     0,   181,     0,     0],\n       [    2,     0,     0,     6,     1],\n       [    3,     0,     0,     0,  1943]], dtype=int64)"
          },
          "metadata": {}
        }
      ],
      "execution_count": 249
    },
    {
      "cell_type": "code",
      "source": "",
      "metadata": {
        "trusted": true
      },
      "outputs": [],
      "execution_count": null
    }
  ]
}